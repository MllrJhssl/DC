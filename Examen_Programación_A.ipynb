{
  "nbformat": 4,
  "nbformat_minor": 0,
  "metadata": {
    "colab": {
      "name": "Examen Programación - A.ipynb",
      "provenance": [],
      "collapsed_sections": [],
      "include_colab_link": true
    },
    "kernelspec": {
      "name": "python3",
      "display_name": "Python 3"
    }
  },
  "cells": [
    {
      "cell_type": "markdown",
      "metadata": {
        "id": "view-in-github",
        "colab_type": "text"
      },
      "source": [
        "<a href=\"https://colab.research.google.com/github/MllrJhssl/DC/blob/master/Examen_Programaci%C3%B3n_A.ipynb\" target=\"_parent\"><img src=\"https://colab.research.google.com/assets/colab-badge.svg\" alt=\"Open In Colab\"/></a>"
      ]
    },
    {
      "cell_type": "markdown",
      "metadata": {
        "id": "y7Oq4Se1jAkk",
        "colab_type": "text"
      },
      "source": [
        "# EXAMEN PARCIAL DE PROGRAMACIÓN - A"
      ]
    },
    {
      "cell_type": "markdown",
      "metadata": {
        "id": "d6Dtx5cijHuN",
        "colab_type": "text"
      },
      "source": [
        "Nombres y apellidos: \n",
        "\n",
        "Código: "
      ]
    },
    {
      "cell_type": "markdown",
      "metadata": {
        "id": "V2Gv10h-SbX4",
        "colab_type": "text"
      },
      "source": [
        "***\n",
        "Instrucciones:\n",
        "- El examen es personal\n",
        "- Se puede usar internet\n",
        "- Una vez terminado, descargar en formato **.ipynb** su examen con su código de estudiante y subir a esta [carpeta compartida](https://drive.google.com/drive/u/0/folders/1eBFAtL33yaYqMgKdX1NbunjEAhRqoSGX) (ejemplo: 17160099.ipynb)\n",
        "***"
      ]
    },
    {
      "cell_type": "markdown",
      "metadata": {
        "id": "2NrjVzQIjRH2",
        "colab_type": "text"
      },
      "source": [
        "## Nivel 1 (1 pt c/u)"
      ]
    },
    {
      "cell_type": "markdown",
      "metadata": {
        "id": "qCk2aiwfj47k",
        "colab_type": "text"
      },
      "source": [
        "1. Cuáles son los lenguajes básicos para crear una página web."
      ]
    },
    {
      "cell_type": "markdown",
      "metadata": {
        "id": "oC0tPaOk8M10",
        "colab_type": "text"
      },
      "source": [
        "para la programacion web se puede usar:\n",
        "-lenguaje HTML\n",
        "-lenguaje CSS\n",
        "-Lenguaje JavaScript\n",
        "-etc"
      ]
    },
    {
      "cell_type": "markdown",
      "metadata": {
        "id": "UVTdV9izj6bV",
        "colab_type": "text"
      },
      "source": [
        "2. Explicar cómo crear un repositorio virtual en Github y subir archivos a este.\n",
        "\n",
        "---\n",
        "\n"
      ]
    },
    {
      "cell_type": "markdown",
      "metadata": {
        "id": "K7SDm4wA6SUS",
        "colab_type": "text"
      },
      "source": [
        "Entrar a la pagina https://github.com/ crear una cuenta de git Hud, entrar a su perfil en la opcion *Repositories* \n",
        "1. Dar clic en la opcion New\n",
        "2. Colocamos el nombre del repositorio en la barra *Repository* *name* \n",
        "3. Si deseamos le damos una descripcion al repositorio, colocamos el modo *Publico*\n",
        "4. Dar clic en *Initialize this repository with a README*\n",
        "5. Por ultimo daremos clic en *Create Repository*\n",
        "\n",
        "Desde nuestro ordenador remoto seleccionar en este caso un archivo Colab, buscaremos la opcion Archivo en la opcion *Guardar una copia en GitHub*\n",
        "visualizaremos una ventana donde nos pide la localizacion del repositorio,la ruta de acceso y un mensaje de confirmacion\n",
        "En nuestro caso subiremos un ejemplo de Random Forest a nuestro repositorio DC en el siguiente link\n",
        "https://github.com/MllrJhssl/DC.git\n"
      ]
    },
    {
      "cell_type": "markdown",
      "metadata": {
        "id": "TtoAf5SzkUrK",
        "colab_type": "text"
      },
      "source": [
        "3. Explicar las diferencias entre el modo apertura **lectura** y **escritura**."
      ]
    },
    {
      "cell_type": "markdown",
      "metadata": {
        "id": "Anqt8g4c8Vgv",
        "colab_type": "text"
      },
      "source": [
        "El modo lectura se usa para abrir algunos archivos de una ruta remota, usando la funcion open, para visualizar podemos escribir la opcion 'r' para poder leer todo el archivo; la opcion escritura tiene la diferencia de poder reemplazar el archivo anterior usando su contenido y cambiando su ruta, o tambien crear uno nuevo si no existe"
      ]
    },
    {
      "cell_type": "markdown",
      "metadata": {
        "id": "s5KOFqH9k0JV",
        "colab_type": "text"
      },
      "source": [
        "4. ¿La siguiente expresión es válida? Explicar por qué.\n",
        "         x = \"hello!\"\n",
        "         x *= \"world\""
      ]
    },
    {
      "cell_type": "markdown",
      "metadata": {
        "id": "rpv3eiU88WKi",
        "colab_type": "text"
      },
      "source": [
        "no es valida porque esta multiplicando 2 caracteres, si el caso fuera += resultaria la respuesta, pero aun asi seria la unica forma que de un resultado"
      ]
    },
    {
      "cell_type": "markdown",
      "metadata": {
        "id": "QDTfPELzlu7a",
        "colab_type": "text"
      },
      "source": [
        "5. Mencionar 3 librerías para el lenguaje Python."
      ]
    },
    {
      "cell_type": "markdown",
      "metadata": {
        "id": "4IB83kRrFRE2",
        "colab_type": "text"
      },
      "source": [
        "tenemos las librerias: numpy, pandas, requests etc"
      ]
    },
    {
      "cell_type": "markdown",
      "metadata": {
        "id": "GF3My8OX-jiE",
        "colab_type": "text"
      },
      "source": [
        "6. Calcule el resto de la siguiente ecuación\n",
        "\n",
        "$$ \\frac {3^3 - \\sqrt{6^2 - 5^2}} {12} $$"
      ]
    },
    {
      "cell_type": "code",
      "metadata": {
        "id": "yDuRQnb_HC_2",
        "colab_type": "code",
        "colab": {
          "base_uri": "https://localhost:8080/",
          "height": 34
        },
        "outputId": "ab0d0e51-d5cf-4c3a-e3a1-80badfab4e99"
      },
      "source": [
        "a,b,c,d,e,f,g,h = 3,3,6,2,5,2,0.5,12\n",
        "res= (a**b - ((e**c - f**d)**h)) / g\n",
        "print (\"({}^{} - (({}^{} - {}^{})^{})) / {} = {}\".format(a,b,c,d,e,f,g,h,res))"
      ],
      "execution_count": 10,
      "outputs": [
        {
          "output_type": "stream",
          "text": [
            "(3^3 - ((6^2 - 5^2)^0.5)) / 12 = -4.222172613258642e+50\n"
          ],
          "name": "stdout"
        }
      ]
    },
    {
      "cell_type": "markdown",
      "metadata": {
        "id": "X7GmTqRAKErt",
        "colab_type": "text"
      },
      "source": [
        "7. Crear un diccionario con 3 llaves y que sus valores sean tuplas o listas. Finalmente guardalo como archivo **json**."
      ]
    },
    {
      "cell_type": "code",
      "metadata": {
        "id": "fqdKduumFp0c",
        "colab_type": "code",
        "colab": {}
      },
      "source": [
        "import json\n",
        "dicc = {'Titans':['Robin','Hanw','Dove','Wonder Girld'],\n",
        "        'Justice League':('Batman','Superman','Green Lanter'),\n",
        "        'Base':['Atalaya','Torre Titans']\n",
        "        }\n",
        "json_str = json.dumps(dicc)"
      ],
      "execution_count": 0,
      "outputs": []
    },
    {
      "cell_type": "code",
      "metadata": {
        "id": "fRMzeI9Ezg5j",
        "colab_type": "code",
        "outputId": "0e764449-0483-4724-c700-b7970048552f",
        "colab": {
          "base_uri": "https://localhost:8080/",
          "height": 54
        }
      },
      "source": [
        "print ('Datos en formato JSON',json_str)"
      ],
      "execution_count": 0,
      "outputs": [
        {
          "output_type": "stream",
          "text": [
            "Datos en formato JSON {\"Titans\": [\"Robin\", \"Hanw\", \"Dove\", \"Wonder Girld\"], \"Justice League\": [\"Batman\", \"Superman\", \"Green Lanter\"], \"Base\": [\"Atalaya\", \"Torre Titans\"]}\n"
          ],
          "name": "stdout"
        }
      ]
    },
    {
      "cell_type": "code",
      "metadata": {
        "id": "937Wi42E06H3",
        "colab_type": "code",
        "colab": {}
      },
      "source": [
        "with open('dicc.json','w') as file:\n",
        "  json.dump(dicc,file)"
      ],
      "execution_count": 0,
      "outputs": []
    },
    {
      "cell_type": "code",
      "metadata": {
        "id": "BvY4mBWK1eGU",
        "colab_type": "code",
        "outputId": "9319abb5-8079-4945-b883-85772c1a52d0",
        "colab": {
          "base_uri": "https://localhost:8080/",
          "height": 34
        }
      },
      "source": [
        "with open('dicc.json','r') as file:\n",
        "  data = json.load(file)\n",
        "  print (data)"
      ],
      "execution_count": 0,
      "outputs": [
        {
          "output_type": "stream",
          "text": [
            "{'Titans': ['Robin', 'Hanw', 'Dove', 'Wonder Girld'], 'Justice League': ['Batman', 'Superman', 'Green Lanter'], 'Base': ['Atalaya', 'Torre Titans']}\n"
          ],
          "name": "stdout"
        }
      ]
    },
    {
      "cell_type": "markdown",
      "metadata": {
        "id": "QSPXazJHmDn_",
        "colab_type": "text"
      },
      "source": [
        "## Nivel 2 (2 pt c/u)"
      ]
    },
    {
      "cell_type": "markdown",
      "metadata": {
        "id": "80fxdaFCq6Zy",
        "colab_type": "text"
      },
      "source": [
        "1. Escribir una función que elimine de una lista dada todos los elementos repetidos y devuelvalos elementos de la lista sin repeticiones."
      ]
    },
    {
      "cell_type": "code",
      "metadata": {
        "id": "M6E4XC3_2QMN",
        "colab_type": "code",
        "colab": {}
      },
      "source": [
        "lista = [1,2,5,5,5,9,8,5,9,63,1,5,6,]\n",
        "lista2 = []\n",
        "for i in lista:\n",
        "  if i not in lista2:\n",
        "    lista2.append(i)"
      ],
      "execution_count": 0,
      "outputs": []
    },
    {
      "cell_type": "code",
      "metadata": {
        "id": "z9UHKvpWYVDS",
        "colab_type": "code",
        "colab": {
          "base_uri": "https://localhost:8080/",
          "height": 34
        },
        "outputId": "e37ca06f-a766-4845-82c1-c655dd338053"
      },
      "source": [
        "lista2"
      ],
      "execution_count": 15,
      "outputs": [
        {
          "output_type": "execute_result",
          "data": {
            "text/plain": [
              "[1, 2, 5, 9, 8, 63, 6]"
            ]
          },
          "metadata": {
            "tags": []
          },
          "execution_count": 15
        }
      ]
    },
    {
      "cell_type": "markdown",
      "metadata": {
        "id": "xlTKqgTLz2Eb",
        "colab_type": "text"
      },
      "source": [
        "2. Crear una función que muestre los n primeros números primos."
      ]
    },
    {
      "cell_type": "code",
      "metadata": {
        "id": "b83tB7Q_B46U",
        "colab_type": "code",
        "colab": {}
      },
      "source": [
        "def Numeros_Primos (n):\n",
        "  for i in range(2,n):\n",
        "    m = 2 \n",
        "    primo = True\n",
        "    while primo and m < i:\n",
        "      if i % m == 0:\n",
        "        primo = False\n",
        "      else:\n",
        "        m += 1\n",
        "    if primo:\n",
        "      print(i)"
      ],
      "execution_count": 0,
      "outputs": []
    },
    {
      "cell_type": "code",
      "metadata": {
        "id": "_4WWZygOWK1M",
        "colab_type": "code",
        "colab": {
          "base_uri": "https://localhost:8080/",
          "height": 85
        },
        "outputId": "ea85b1a2-49e2-4447-9acd-975e6bca1775"
      },
      "source": [
        "Numeros_Primos(10)"
      ],
      "execution_count": 12,
      "outputs": [
        {
          "output_type": "stream",
          "text": [
            "2\n",
            "3\n",
            "5\n",
            "7\n"
          ],
          "name": "stdout"
        }
      ]
    },
    {
      "cell_type": "markdown",
      "metadata": {
        "id": "xUCYTvIt9V7L",
        "colab_type": "text"
      },
      "source": [
        "3. Realizar una función que pida el valor de los tres lados de un triángulo y demuestre su existencia."
      ]
    },
    {
      "cell_type": "code",
      "metadata": {
        "id": "BaE5uc6b-tpU",
        "colab_type": "code",
        "colab": {
          "base_uri": "https://localhost:8080/",
          "height": 34
        },
        "outputId": "18547a54-dad3-472d-ee5a-a24de3791760"
      },
      "source": [
        "def datos(l1,l2,l3):\n",
        "    p = (l1+l2+l3)/2\n",
        "    area = (p*(p-l1)*(p-l2)*(p-l3))**0.5\n",
        "    return  p, area\n",
        "datos(3,4,5)"
      ],
      "execution_count": 1,
      "outputs": [
        {
          "output_type": "execute_result",
          "data": {
            "text/plain": [
              "(6.0, 6.0)"
            ]
          },
          "metadata": {
            "tags": []
          },
          "execution_count": 1
        }
      ]
    },
    {
      "cell_type": "markdown",
      "metadata": {
        "id": "d8HeIR1J18Kw",
        "colab_type": "text"
      },
      "source": [
        "## Nivel 3 (3 pt c/u)"
      ]
    },
    {
      "cell_type": "markdown",
      "metadata": {
        "id": "_NLJHa9_088m",
        "colab_type": "text"
      },
      "source": [
        "1. Crear una función que invierta una frase e identifique si es palíndroma o no.\n",
        "\n",
        "    Ejemplo: \n",
        "\n",
        "    **\"Anita lava la tina\" --> \"anit al aval atinA\" (Es palíndroma)**\n",
        "\n",
        "    **\"Hola mundo\" --> \"odnum aloH\"                 (No es palíndroma)**"
      ]
    },
    {
      "cell_type": "code",
      "metadata": {
        "id": "N-qlJx7RBw-T",
        "colab_type": "code",
        "colab": {}
      },
      "source": [
        "palabra = \"somos\"\n",
        "palabraS = []\n",
        "for x in range (len(palabra)):\n",
        "  palabraS.append(palabra[-x-1])\n",
        "\n",
        "palabraS = \"\".join(palabraS)\n",
        "\n",
        "if palabra == palabraS:\n",
        "  print(\"Es palindroma\")\n",
        "else:\n",
        "  print(\"No es palindroma\")"
      ],
      "execution_count": 0,
      "outputs": []
    },
    {
      "cell_type": "markdown",
      "metadata": {
        "id": "aGu8vTil2Ri7",
        "colab_type": "text"
      },
      "source": [
        "2. Crear una función que cuente la cantidad de letras que se repiten en un texto y las devuelva en un diccionario.\n",
        "\n",
        "    Ejemplo:\n",
        "    \n",
        "    **\"bienvenido\"**\n",
        "    \n",
        "    **{\"b\":1, \"i\":2, \"e\":2, \"n\":2, \"v\":1, \"d\":1, \"o\":1}**\n",
        "    "
      ]
    },
    {
      "cell_type": "code",
      "metadata": {
        "id": "LtU8YoVJYpmd",
        "colab_type": "code",
        "colab": {}
      },
      "source": [
        ""
      ],
      "execution_count": 0,
      "outputs": []
    },
    {
      "cell_type": "markdown",
      "metadata": {
        "id": "TlOFiJM2CJF9",
        "colab_type": "text"
      },
      "source": [
        "3. Crear una función para calcular el área de una sección circular.\n",
        "\n",
        "![](http://www.disfrutalasmatematicas.com/geometria/images/circle-arc-length.gif)"
      ]
    },
    {
      "cell_type": "code",
      "metadata": {
        "id": "ZTsuq0xrTUZA",
        "colab_type": "code",
        "colab": {}
      },
      "source": [
        ""
      ],
      "execution_count": 0,
      "outputs": []
    },
    {
      "cell_type": "markdown",
      "metadata": {
        "id": "kjCoXuAdWhyO",
        "colab_type": "text"
      },
      "source": [
        "4. Crear una lista con los nombres de todas las ciudades del archivo [sudamerica.json](https://github.com/ryali93/UNMSM_programacion/blob/master/data/sudamerica.json)\n",
        "\n",
        "    Ayuda: *descargar el archivo JSON con la opción Raw*"
      ]
    },
    {
      "cell_type": "markdown",
      "metadata": {
        "id": "1G5Rp42x3KHa",
        "colab_type": "text"
      },
      "source": [
        "## Nivel 4 (4 pt):"
      ]
    },
    {
      "cell_type": "markdown",
      "metadata": {
        "id": "KGJx9ZQRDwba",
        "colab_type": "text"
      },
      "source": [
        "1. Un ingeniero está realizando el diseño de un canal de regadío para un pequeño pueblo, cree una función para que, dependiendo del tipo de sección que usará, pueda saber el área, perímetro mojado, radio hidráulico y espejo de agua de su sección. (Elegir 2 tipos de sección)\n",
        "\n",
        "![](https://upload.wikimedia.org/wikipedia/commons/5/59/Radio_Hidr%C3%A1ulico_geometria_fundamental.gif)"
      ]
    },
    {
      "cell_type": "markdown",
      "metadata": {
        "id": "wPPUwC7I3Ohq",
        "colab_type": "text"
      },
      "source": [
        "2. Teniendo las listas:\n",
        "\n",
        "    x = [8, 2, 11, 6, 5, 4, 12, 9, 6, 1]\n",
        "    \n",
        "    y = [3, 10, 3, 6, 8, 12, 1, 4, 9, 14]\n",
        "    \n",
        "    Calcule la pendiente de la recta\n",
        "\n",
        "    $$ m = \\frac {\\sum{xy} - \\frac{(\\sum{x}) (\\sum{y})}n} {\\sum{x}^2 - {\\frac {(\\sum{x})^2}n}} $$\n",
        "\n",
        "    Calcule la intercepción en **y** de la forma\n",
        "\n",
        "    $$ b = \\bar{y} - m\\bar{x} $$\n",
        "\n",
        "    Use la pendiente y la intercepción en y para formar la ecuación de la recta."
      ]
    }
  ]
}