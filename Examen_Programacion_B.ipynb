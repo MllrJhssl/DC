{
  "nbformat": 4,
  "nbformat_minor": 0,
  "metadata": {
    "colab": {
      "name": "Examen Programacion - B.ipynb",
      "provenance": [],
      "collapsed_sections": [],
      "include_colab_link": true
    },
    "kernelspec": {
      "name": "python3",
      "display_name": "Python 3"
    }
  },
  "cells": [
    {
      "cell_type": "markdown",
      "metadata": {
        "id": "view-in-github",
        "colab_type": "text"
      },
      "source": [
        "<a href=\"https://colab.research.google.com/github/MllrJhssl/DC/blob/master/Examen_Programacion_B.ipynb\" target=\"_parent\"><img src=\"https://colab.research.google.com/assets/colab-badge.svg\" alt=\"Open In Colab\"/></a>"
      ]
    },
    {
      "cell_type": "markdown",
      "metadata": {
        "id": "y7Oq4Se1jAkk",
        "colab_type": "text"
      },
      "source": [
        "# EXAMEN PARCIAL DE PROGRAMACIÓN - B"
      ]
    },
    {
      "cell_type": "markdown",
      "metadata": {
        "id": "d6Dtx5cijHuN",
        "colab_type": "text"
      },
      "source": [
        "Nombres y apellidos: \n",
        "\n",
        "Código: "
      ]
    },
    {
      "cell_type": "markdown",
      "metadata": {
        "id": "V2Gv10h-SbX4",
        "colab_type": "text"
      },
      "source": [
        "***\n",
        "Instrucciones:\n",
        "- El examen es personal\n",
        "- Se puede usar internet\n",
        "- Una vez terminado, descargar en formato **.ipynb** su examen con su código de estudiante y subir a esta [carpeta compartida](https://drive.google.com/drive/u/0/folders/15-6dSuwz7EMO-CNYb0pMgxG-0WksCEv6) (ejemplo: 17160099.ipynb)\n",
        "***"
      ]
    },
    {
      "cell_type": "markdown",
      "metadata": {
        "id": "7M7qpUULGbos",
        "colab_type": "text"
      },
      "source": [
        "## Nivel 1 (1 pt c/u)"
      ]
    },
    {
      "cell_type": "markdown",
      "metadata": {
        "id": "be8dPw7dmTJu",
        "colab_type": "text"
      },
      "source": [
        "1. Explicar algunas diferencias entre un editor de texto y una interfaz de desarrollo.\n"
      ]
    },
    {
      "cell_type": "markdown",
      "metadata": {
        "id": "ojeP-1xBWKzJ",
        "colab_type": "text"
      },
      "source": [
        "Los editores de texto son solo para escribir como el sublime, visual estudio etc. la interfaz de desarrollo es como el editor del codigo, el compilador"
      ]
    },
    {
      "cell_type": "markdown",
      "metadata": {
        "id": "hYZm4UQxmchw",
        "colab_type": "text"
      },
      "source": [
        "2. Explicar cómo crear un repositorio virtual en Github y subir archivos a este.\n"
      ]
    },
    {
      "cell_type": "markdown",
      "metadata": {
        "id": "avzd9TzcWPkB",
        "colab_type": "text"
      },
      "source": [
        "Entrar a la pagina https://github.com/ crear una cuenta de git Hud, entrar a su perfil en la opcion *Repositories* \n",
        "1. Dar clic en la opcion New\n",
        "2. Colocamos el nombre del repositorio en la barra *Repository* *name* \n",
        "3. Si deseamos le damos una descripcion al repositorio, colocamos el modo *Publico*\n",
        "4. Dar clic en *Initialize this repository with a README*\n",
        "5. Por ultimo daremos clic en *Create Repository*\n",
        "\n",
        "Desde nuestro ordenador remoto seleccionar en este caso un archivo Colab, buscaremos la opcion Archivo en la opcion *Guardar una copia en GitHub*\n",
        "visualizaremos una ventana donde nos pide la localizacion del repositorio,la ruta de acceso y un mensaje de confirmacion\n",
        "En nuestro caso subiremos un ejemplo de Random Forest a nuestro repositorio DC en el siguiente link\n",
        "https://github.com/MllrJhssl/DC.git\n",
        "\n"
      ]
    },
    {
      "cell_type": "markdown",
      "metadata": {
        "id": "YhnHyiU3mqRy",
        "colab_type": "text"
      },
      "source": [
        "3. ¿Por qué se dice que Python es un lenguaje **multiparadigma**?"
      ]
    },
    {
      "cell_type": "markdown",
      "metadata": {
        "id": "gIzppjoO6x97",
        "colab_type": "text"
      },
      "source": [
        "podriamos decir que multiparadigma son varios modelos de desarrollo, con el objetivo de utilizar el mas conveniente al momento de realizar un problema por esa razon python admite 3 modelos principales siendo el funcional, imperativo y el oriento a objetos"
      ]
    },
    {
      "cell_type": "markdown",
      "metadata": {
        "id": "fHDP4mj0wy6q",
        "colab_type": "text"
      },
      "source": [
        "4. Mencione 3 diferencias entre python2 y python3"
      ]
    },
    {
      "cell_type": "markdown",
      "metadata": {
        "id": "XD2btua0-aVs",
        "colab_type": "text"
      },
      "source": [
        "1. Al momento de usar el print en python 2 no se usa los parentesis para declarar la respuesta, a diferencia de python 3 donde debe estar dentro de parentesis\n",
        "2. La division de numeros en python 2 sera un numero enter, la diferencia esta si queremos un numero tiene que haber por lo menos un decimal, en python 3 se coloca el simbolo de // y esta solucionado\n",
        "3. La funcion xrange es en python 2, donde no existe en python 3 la cual en ambos funcionan igual"
      ]
    },
    {
      "cell_type": "markdown",
      "metadata": {
        "id": "nW8hXJnIxFyc",
        "colab_type": "text"
      },
      "source": [
        "5. Explicar las diferencias entre las estructuras de datos vistas en clase"
      ]
    },
    {
      "cell_type": "markdown",
      "metadata": {
        "id": "xVW8wQxwIxso",
        "colab_type": "text"
      },
      "source": [
        "Tuplas: son las que no se pueden editar, son inmutables y tiene un bajo consumo de memoria. Donde se usan los () para contener la informacion, tambien que incluye diferentes tipos de datos\n",
        "Lista: es mutable donde se le puede agregar o quitar elementos. Donde se usan [] para contener la informacion.\n",
        "Diccionario: es un objeto que tiene asociado tuplas o listas, donde se puede acceder a ellos mediante llaves, siendo este el almacenamiento de la informacion"
      ]
    },
    {
      "cell_type": "markdown",
      "metadata": {
        "colab_type": "text",
        "id": "heaLpwrsBoBA"
      },
      "source": [
        "6. Calcule el resto de la siguiente ecuación\n",
        "\n",
        "$$ \\frac {2^5 - \\sqrt{6^2 - 5^2}} {15} $$"
      ]
    },
    {
      "cell_type": "code",
      "metadata": {
        "id": "6JA3m2EZN4Qo",
        "colab_type": "code",
        "colab": {
          "base_uri": "https://localhost:8080/",
          "height": 34
        },
        "outputId": "254a73e9-8299-4e62-df32-818134a52a62"
      },
      "source": [
        "a,b,c,d,e,f,g,h = 2,5,6,2,5,2,0.5,15\n",
        "res= (a**b - ((e**c - f**d)**h)) / g\n",
        "print (\"({}^{} - (({}^{} - {}^{})^{})) / {} = {}\".format(a,b,c,d,e,f,g,h,res))"
      ],
      "execution_count": 3,
      "outputs": [
        {
          "output_type": "stream",
          "text": [
            "(2^5 - ((6^2 - 5^2)^0.5)) / 15 = -1.6093943842825838e+63\n"
          ],
          "name": "stdout"
        }
      ]
    },
    {
      "cell_type": "markdown",
      "metadata": {
        "id": "dRL33PiQKfeY",
        "colab_type": "text"
      },
      "source": [
        "7. Crear un diccionario con 3 llaves y que sus valores sean tuplas o listas. Finalmente guardalo como archivo **json**."
      ]
    },
    {
      "cell_type": "code",
      "metadata": {
        "id": "nH1Rw62iUpYB",
        "colab_type": "code",
        "colab": {}
      },
      "source": [
        "import json\n",
        "dicc = {'Titans':['Robin','Hanw','Dove','Wonder Girld'],\n",
        "        'Justice League':('Batman','Superman','Green Lanter'),\n",
        "        'Base':['Atalaya','Torre Titans']\n",
        "        }\n",
        "json_str = json.dumps(dicc)"
      ],
      "execution_count": 0,
      "outputs": []
    },
    {
      "cell_type": "code",
      "metadata": {
        "id": "fRMzeI9Ezg5j",
        "colab_type": "code",
        "colab": {
          "base_uri": "https://localhost:8080/",
          "height": 54
        },
        "outputId": "0e764449-0483-4724-c700-b7970048552f"
      },
      "source": [
        "print ('Datos en formato JSON',json_str)"
      ],
      "execution_count": 3,
      "outputs": [
        {
          "output_type": "stream",
          "text": [
            "Datos en formato JSON {\"Titans\": [\"Robin\", \"Hanw\", \"Dove\", \"Wonder Girld\"], \"Justice League\": [\"Batman\", \"Superman\", \"Green Lanter\"], \"Base\": [\"Atalaya\", \"Torre Titans\"]}\n"
          ],
          "name": "stdout"
        }
      ]
    },
    {
      "cell_type": "code",
      "metadata": {
        "id": "937Wi42E06H3",
        "colab_type": "code",
        "colab": {}
      },
      "source": [
        "with open('dicc.json','w') as file:\n",
        "  json.dump(dicc,file)"
      ],
      "execution_count": 0,
      "outputs": []
    },
    {
      "cell_type": "code",
      "metadata": {
        "id": "BvY4mBWK1eGU",
        "colab_type": "code",
        "colab": {
          "base_uri": "https://localhost:8080/",
          "height": 34
        },
        "outputId": "9319abb5-8079-4945-b883-85772c1a52d0"
      },
      "source": [
        "with open('dicc.json','r') as file:\n",
        "  data = json.load(file)\n",
        "  print (data)"
      ],
      "execution_count": 5,
      "outputs": [
        {
          "output_type": "stream",
          "text": [
            "{'Titans': ['Robin', 'Hanw', 'Dove', 'Wonder Girld'], 'Justice League': ['Batman', 'Superman', 'Green Lanter'], 'Base': ['Atalaya', 'Torre Titans']}\n"
          ],
          "name": "stdout"
        }
      ]
    },
    {
      "cell_type": "markdown",
      "metadata": {
        "id": "Gq9EuuSzGx0n",
        "colab_type": "text"
      },
      "source": [
        "## Nivel 2 (2 pt c/u)"
      ]
    },
    {
      "cell_type": "markdown",
      "metadata": {
        "id": "kO-PPOvfnnBq",
        "colab_type": "text"
      },
      "source": [
        "1. Realizar el siguiente gráfico usando sentencias **for**"
      ]
    },
    {
      "cell_type": "code",
      "metadata": {
        "id": "TJhR1BgT2UTS",
        "colab_type": "code",
        "colab": {}
      },
      "source": [
        ""
      ],
      "execution_count": 0,
      "outputs": []
    },
    {
      "cell_type": "code",
      "metadata": {
        "id": "cNZ4ednPIz-E",
        "colab_type": "code",
        "colab": {}
      },
      "source": [
        "*\n",
        "  *\n",
        "    *\n",
        "      *\n",
        "        *\n",
        "          *\n",
        "        *\n",
        "      *\n",
        "    *\n",
        "  *\n",
        "*"
      ],
      "execution_count": 0,
      "outputs": []
    },
    {
      "cell_type": "markdown",
      "metadata": {
        "id": "0GnE97p6Ju5o",
        "colab_type": "text"
      },
      "source": [
        "2. Crear una función que devuelva la media armónica de una lista"
      ]
    },
    {
      "cell_type": "code",
      "metadata": {
        "id": "PpZg2JLX5wIj",
        "colab_type": "code",
        "colab": {}
      },
      "source": [
        "def Media_Armonica (lista):\n",
        "  x = 0\n",
        "  for n in lista:\n",
        "    x += (1/n)\n",
        "  MA = (len(lista)/x)\n",
        "  return MA"
      ],
      "execution_count": 0,
      "outputs": []
    },
    {
      "cell_type": "code",
      "metadata": {
        "id": "VB526DF3G4xN",
        "colab_type": "code",
        "colab": {
          "base_uri": "https://localhost:8080/",
          "height": 34
        },
        "outputId": "cc35d932-dddd-4dfe-9780-1f5aacf3aa60"
      },
      "source": [
        "l = [1,2,3]\n",
        "Media_Armonica (l)"
      ],
      "execution_count": 16,
      "outputs": [
        {
          "output_type": "execute_result",
          "data": {
            "text/plain": [
              "1.6363636363636365"
            ]
          },
          "metadata": {
            "tags": []
          },
          "execution_count": 16
        }
      ]
    },
    {
      "cell_type": "markdown",
      "metadata": {
        "id": "IGmEYUUHH-w0",
        "colab_type": "text"
      },
      "source": [
        "3. Realizar una función que pida el valor de los tres lados de un triángulo y demuestre su existencia."
      ]
    },
    {
      "cell_type": "code",
      "metadata": {
        "id": "xOKFLE5H-IZR",
        "colab_type": "code",
        "colab": {
          "base_uri": "https://localhost:8080/",
          "height": 34
        },
        "outputId": "286357f9-c598-4c31-da45-5c6678a0dbc0"
      },
      "source": [
        "def datos(l1,l2,l3):\n",
        "    p = (l1+l2+l3)/2\n",
        "    area = (p*(p-l1)*(p-l2)*(p-l3))**0.5\n",
        "    return  p, area\n",
        "datos(3,2,4)"
      ],
      "execution_count": 9,
      "outputs": [
        {
          "output_type": "execute_result",
          "data": {
            "text/plain": [
              "(4.5, 2.9047375096555625)"
            ]
          },
          "metadata": {
            "tags": []
          },
          "execution_count": 9
        }
      ]
    },
    {
      "cell_type": "markdown",
      "metadata": {
        "id": "_a6PPs_6KwTz",
        "colab_type": "text"
      },
      "source": [
        "## Nivel 3 (3 pt c/u)"
      ]
    },
    {
      "cell_type": "markdown",
      "metadata": {
        "id": "_NLJHa9_088m",
        "colab_type": "text"
      },
      "source": [
        "1. Crear una función que invierta una frase e identifique si es palíndroma o no.\n",
        "\n",
        "    Ejemplo: \n",
        "\n",
        "    **\"Anita lava la tina\" --> \"anit al aval atinA\" (Es palíndroma)**\n",
        "\n",
        "    **\"Hola mundo\" --> \"odnum aloH\"                 (No es palíndroma)**"
      ]
    },
    {
      "cell_type": "code",
      "metadata": {
        "id": "bLeJc1fG_gEo",
        "colab_type": "code",
        "colab": {
          "base_uri": "https://localhost:8080/",
          "height": 34
        },
        "outputId": "53601927-5338-46b4-ca5e-600cc0fdc4bf"
      },
      "source": [
        "palabra = \"somos\"\n",
        "palabraS = []\n",
        "for x in range (len(palabra)):\n",
        "  palabraS.append(palabra[-x-1])\n",
        "\n",
        "palabraS = \"\".join(palabraS)\n",
        "\n",
        "if palabra == palabraS:\n",
        "  print(\"Es palindroma\")\n",
        "else:\n",
        "  print(\"No es palindroma\")"
      ],
      "execution_count": 14,
      "outputs": [
        {
          "output_type": "stream",
          "text": [
            "Es palindroma\n"
          ],
          "name": "stdout"
        }
      ]
    },
    {
      "cell_type": "markdown",
      "metadata": {
        "id": "aGu8vTil2Ri7",
        "colab_type": "text"
      },
      "source": [
        "2. Crear una función que cuente la cantidad de letras que se repiten en un texto y las devuelva en un diccionario.\n",
        "\n",
        "    Ejemplo:\n",
        "    \n",
        "    **\"bienvenido\"**\n",
        "    \n",
        "    **{\"b\":1, \"i\":2, \"e\":2, \"n\":2, \"v\":1, \"d\":1, \"o\":1}**\n",
        "    "
      ]
    },
    {
      "cell_type": "markdown",
      "metadata": {
        "id": "PUh494U9OvbI",
        "colab_type": "text"
      },
      "source": [
        "3. Crear una función para calcular el área de una corona circular.\n",
        "\n",
        "![](https://encrypted-tbn0.gstatic.com/images?q=tbn:ANd9GcSK9qQ1LQWTwiIGOIhbd7GljoXsJIt1jIqIglPfeQr2L5ZU5M8V&s)"
      ]
    },
    {
      "cell_type": "code",
      "metadata": {
        "id": "tdMUZTG4Tbt3",
        "colab_type": "code",
        "colab": {}
      },
      "source": [
        ""
      ],
      "execution_count": 0,
      "outputs": []
    },
    {
      "cell_type": "markdown",
      "metadata": {
        "id": "kjCoXuAdWhyO",
        "colab_type": "text"
      },
      "source": [
        "4. Crear una lista con los nombres de todas los paises del archivo [sudamerica.json](https://github.com/ryali93/UNMSM_programacion/blob/master/data/sudamerica.json)\n",
        "\n",
        "    Ayuda: *descargar el archivo JSON con la opción Raw*"
      ]
    },
    {
      "cell_type": "code",
      "metadata": {
        "id": "VRLVg4KfGQr9",
        "colab_type": "code",
        "colab": {}
      },
      "source": [
        "a = open(\"sudamerica.json\",\"r\")\n",
        "data = a.read()"
      ],
      "execution_count": 0,
      "outputs": []
    },
    {
      "cell_type": "code",
      "metadata": {
        "id": "K_P8A7OaGiyG",
        "colab_type": "code",
        "colab": {
          "base_uri": "https://localhost:8080/",
          "height": 54
        },
        "outputId": "00776d26-bc73-4dd4-d158-3c8bb33fa8b7"
      },
      "source": [
        "data"
      ],
      "execution_count": 6,
      "outputs": [
        {
          "output_type": "execute_result",
          "data": {
            "text/plain": [
              "'{\\n  \"type\": \"FeatureCollection\",\\n  \"crs\": {\\n    \"type\": \"name\",\\n    \"properties\": {\\n      \"name\": \"EPSG:4326\"\\n    }\\n  },\\n  \"features\": [\\n    {\\n      \"type\": \"Feature\",\\n      \"id\": 0,\\n      \"geometry\": {\\n        \"type\": \"Point\",\\n        \"coordinates\": [\\n          -69.410003662109347,\\n          -51.709999084472628\\n        ]\\n      },\\n      \"properties\": {\\n        \"FID\": 0,\\n        \"CIUDAD\": \"Río Gallegos\",\\n        \"PAIS\": \"Argentina\",\\n        \"CAPITAL\": \"N\"\\n      }\\n    },\\n    {\\n      \"type\": \"Feature\",\\n      \"id\": 1,\\n      \"geometry\": {\\n        \"type\": \"Point\",\\n        \"coordinates\": [\\n          -67.499999999999972,\\n          -45.83000183105473\\n        ]\\n      },\\n      \"properties\": {\\n        \"FID\": 1,\\n        \"CIUDAD\": \"Comodoro Rivadavia\",\\n        \"PAIS\": \"Argentina\",\\n        \"CAPITAL\": \"N\"\\n      }\\n    },\\n    {\\n      \"type\": \"Feature\",\\n      \"id\": 2,\\n      \"geometry\": {\\n        \"type\": \"Point\",\\n        \"coordinates\": [\\n          -72.999999999999943,\\n          -41.479999542236364\\n        ]\\n      },\\n      \"properties\": {\\n        \"FID\": 2,\\n        \"CIUDAD\": \"Puerto Montt\",\\n        \"PAIS\": \"Chile\",\\n        \"CAPITAL\": \"N\"\\n      }\\n    },\\n    {\\n      \"type\": \"Feature\",\\n      \"id\": 3,\\n      \"geometry\": {\\n        \"type\": \"Point\",\\n        \"coordinates\": [\\n          -62.274066925048828,\\n          -38.725273132324219\\n        ]\\n      },\\n      \"properties\": {\\n        \"FID\": 3,\\n        \"CIUDAD\": \"Bahía Blanca\",\\n        \"PAIS\": \"Argentina\",\\n        \"CAPITAL\": \"N\"\\n      }\\n    },\\n    {\\n      \"type\": \"Feature\",\\n      \"id\": 4,\\n      \"geometry\": {\\n        \"type\": \"Point\",\\n        \"coordinates\": [\\n          -72.851638793945284,\\n          -36.883296966552777\\n        ]\\n      },\\n      \"properties\": {\\n        \"FID\": 4,\\n        \"CIUDAD\": \"Concepción\",\\n        \"PAIS\": \"Chile\",\\n        \"CAPITAL\": \"N\"\\n      }\\n    },\\n    {\\n      \"type\": \"Feature\",\\n      \"id\": 5,\\n      \"geometry\": {\\n        \"type\": \"Point\",\\n        \"coordinates\": [\\n          -56.169998168945312,\\n          -34.919998168945291\\n        ]\\n      },\\n      \"properties\": {\\n        \"FID\": 5,\\n        \"CIUDAD\": \"Montevideo\",\\n        \"PAIS\": \"Uruguay\",\\n        \"CAPITAL\": \"S\"\\n      }\\n    },\\n    {\\n      \"type\": \"Feature\",\\n      \"id\": 6,\\n      \"geometry\": {\\n        \"type\": \"Point\",\\n        \"coordinates\": [\\n          -58.409591674804688,\\n          -34.665401458740249\\n        ]\\n      },\\n      \"properties\": {\\n        \"FID\": 6,\\n        \"CIUDAD\": \"Buenos Aires\",\\n        \"PAIS\": \"Argentina\",\\n        \"CAPITAL\": \"S\"\\n      }\\n    },\\n    {\\n      \"type\": \"Feature\",\\n      \"id\": 7,\\n      \"geometry\": {\\n        \"type\": \"Point\",\\n        \"coordinates\": [\\n          -70.64751434326169,\\n          -33.475025177001967\\n        ]\\n      },\\n      \"properties\": {\\n        \"FID\": 7,\\n        \"CIUDAD\": \"Santiago\",\\n        \"PAIS\": \"Chile\",\\n        \"CAPITAL\": \"S\"\\n      }\\n    },\\n    {\\n      \"type\": \"Feature\",\\n      \"id\": 8,\\n      \"geometry\": {\\n        \"type\": \"Point\",\\n        \"coordinates\": [\\n          -60.663940429687443,\\n          -32.93773651123049\\n        ]\\n      },\\n      \"properties\": {\\n        \"FID\": 8,\\n        \"CIUDAD\": \"Rosario\",\\n        \"PAIS\": \"Argentina\",\\n        \"CAPITAL\": \"N\"\\n      }\\n    },\\n    {\\n      \"type\": \"Feature\",\\n      \"id\": 9,\\n      \"geometry\": {\\n        \"type\": \"Point\",\\n        \"coordinates\": [\\n          -71.299339294433565,\\n          -32.900001525878871\\n        ]\\n      },\\n      \"properties\": {\\n        \"FID\": 9,\\n        \"CIUDAD\": \"Valparaíso\",\\n        \"PAIS\": \"Chile\",\\n        \"CAPITAL\": \"N\"\\n      }\\n    },\\n    {\\n      \"type\": \"Feature\",\\n      \"id\": 10,\\n      \"geometry\": {\\n        \"type\": \"Point\",\\n        \"coordinates\": [\\n          -68.829734802246094,\\n          -32.897438049316378\\n        ]\\n      },\\n      \"properties\": {\\n        \"FID\": 10,\\n        \"CIUDAD\": \"Mendoza\",\\n        \"PAIS\": \"Argentina\",\\n        \"CAPITAL\": \"N\"\\n      }\\n    },\\n    {\\n      \"type\": \"Feature\",\\n      \"id\": 11,\\n      \"geometry\": {\\n        \"type\": \"Point\",\\n        \"coordinates\": [\\n          -60.697841644287109,\\n          -31.616897583007834\\n        ]\\n      },\\n      \"properties\": {\\n        \"FID\": 11,\\n        \"CIUDAD\": \"Santa Fé\",\\n        \"PAIS\": \"Argentina\",\\n        \"CAPITAL\": \"N\"\\n      }\\n    },\\n    {\\n      \"type\": \"Feature\",\\n      \"id\": 12,\\n      \"geometry\": {\\n        \"type\": \"Point\",\\n        \"coordinates\": [\\n          -64.179855346679631,\\n          -31.316278457641559\\n        ]\\n      },\\n      \"properties\": {\\n        \"FID\": 12,\\n        \"CIUDAD\": \"Córdoba\",\\n        \"PAIS\": \"Argentina\",\\n        \"CAPITAL\": \"N\"\\n      }\\n    },\\n    {\\n      \"type\": \"Feature\",\\n      \"id\": 13,\\n      \"geometry\": {\\n        \"type\": \"Point\",\\n        \"coordinates\": [\\n          -57.708774566650419,\\n          -31.305152893066442\\n        ]\\n      },\\n      \"properties\": {\\n        \"FID\": 13,\\n        \"CIUDAD\": \"Salta\",\\n        \"PAIS\": \"Uruguay\",\\n        \"CAPITAL\": \"N\"\\n      }\\n    },\\n    {\\n      \"type\": \"Feature\",\\n      \"id\": 14,\\n      \"geometry\": {\\n        \"type\": \"Point\",\\n        \"coordinates\": [\\n          -71.019996643066378,\\n          -30.999999999999964\\n        ]\\n      },\\n      \"properties\": {\\n        \"FID\": 14,\\n        \"CIUDAD\": \"Coquimbo\",\\n        \"PAIS\": \"Chile\",\\n        \"CAPITAL\": \"N\"\\n      }\\n    },\\n    {\\n      \"type\": \"Feature\",\\n      \"id\": 15,\\n      \"geometry\": {\\n        \"type\": \"Point\",\\n        \"coordinates\": [\\n          -51.207988739013643,\\n          -30.03953361511229\\n        ]\\n      },\\n      \"properties\": {\\n        \"FID\": 15,\\n        \"CIUDAD\": \"Porto Alegre\",\\n        \"PAIS\": \"Brasil\",\\n        \"CAPITAL\": \"N\"\\n      }\\n    },\\n    {\\n      \"type\": \"Feature\",\\n      \"id\": 16,\\n      \"geometry\": {\\n        \"type\": \"Point\",\\n        \"coordinates\": [\\n          -58.900001525878935,\\n          -27.399999618530302\\n        ]\\n      },\\n      \"properties\": {\\n        \"FID\": 16,\\n        \"CIUDAD\": \"Resistencia\",\\n        \"PAIS\": \"Argentina\",\\n        \"CAPITAL\": \"N\"\\n      }\\n    },\\n    {\\n      \"type\": \"Feature\",\\n      \"id\": 17,\\n      \"geometry\": {\\n        \"type\": \"Point\",\\n        \"coordinates\": [\\n          -49.284507751464787,\\n          -25.430479049682653\\n        ]\\n      },\\n      \"properties\": {\\n        \"FID\": 17,\\n        \"CIUDAD\": \"Curitiba\",\\n        \"PAIS\": \"Brasil\",\\n        \"CAPITAL\": \"N\"\\n      }\\n    },\\n    {\\n      \"type\": \"Feature\",\\n      \"id\": 18,\\n      \"geometry\": {\\n        \"type\": \"Point\",\\n        \"coordinates\": [\\n          -57.669998168945284,\\n          -25.219999313354528\\n        ]\\n      },\\n      \"properties\": {\\n        \"FID\": 18,\\n        \"CIUDAD\": \"Asunción\",\\n        \"PAIS\": \"Paraguay\",\\n        \"CAPITAL\": \"S\"\\n      }\\n    },\\n    {\\n      \"type\": \"Feature\",\\n      \"id\": 19,\\n      \"geometry\": {\\n        \"type\": \"Point\",\\n        \"coordinates\": [\\n          -70.225448608398437,\\n          -23.832536697387674\\n        ]\\n      },\\n      \"properties\": {\\n        \"FID\": 19,\\n        \"CIUDAD\": \"Antofagasta\",\\n        \"PAIS\": \"Chile\",\\n        \"CAPITAL\": \"N\"\\n      }\\n    },\\n    {\\n      \"type\": \"Feature\",\\n      \"id\": 20,\\n      \"geometry\": {\\n        \"type\": \"Point\",\\n        \"coordinates\": [\\n          -46.622898101806584,\\n          -23.581304550170934\\n        ]\\n      },\\n      \"properties\": {\\n        \"FID\": 20,\\n        \"CIUDAD\": \"Sao Paulo\",\\n        \"PAIS\": \"Brasil\",\\n        \"CAPITAL\": \"N\"\\n      }\\n    },\\n    {\\n      \"type\": \"Feature\",\\n      \"id\": 21,\\n      \"geometry\": {\\n        \"type\": \"Point\",\\n        \"coordinates\": [\\n          -43.455177307128849,\\n          -22.721572875976563\\n        ]\\n      },\\n      \"properties\": {\\n        \"FID\": 21,\\n        \"CIUDAD\": \"Rio de Janeiro\",\\n        \"PAIS\": \"Brasil\",\\n        \"CAPITAL\": \"N\"\\n      }\\n    },\\n    {\\n      \"type\": \"Feature\",\\n      \"id\": 22,\\n      \"geometry\": {\\n        \"type\": \"Point\",\\n        \"coordinates\": [\\n          -69.91326141357419,\\n          -20.260000228881836\\n        ]\\n      },\\n      \"properties\": {\\n        \"FID\": 22,\\n        \"CIUDAD\": \"Iquique\",\\n        \"PAIS\": \"Chile\",\\n        \"CAPITAL\": \"N\"\\n      }\\n    },\\n    {\\n      \"type\": \"Feature\",\\n      \"id\": 23,\\n      \"geometry\": {\\n        \"type\": \"Point\",\\n        \"coordinates\": [\\n          -43.909069061279297,\\n          -19.851720809936516\\n        ]\\n      },\\n      \"properties\": {\\n        \"FID\": 23,\\n        \"CIUDAD\": \"Belo Horizonte\",\\n        \"PAIS\": \"Brasil\",\\n        \"CAPITAL\": \"N\"\\n      }\\n    },\\n    {\\n      \"type\": \"Feature\",\\n      \"id\": 24,\\n      \"geometry\": {\\n        \"type\": \"Point\",\\n        \"coordinates\": [\\n          -65.255882263183537,\\n          -19.04213523864744\\n        ]\\n      },\\n      \"properties\": {\\n        \"FID\": 24,\\n        \"CIUDAD\": \"Sucre\",\\n        \"PAIS\": \"Bolívia\",\\n        \"CAPITAL\": \"N\"\\n      }\\n    },\\n    {\\n      \"type\": \"Feature\",\\n      \"id\": 25,\\n      \"geometry\": {\\n        \"type\": \"Point\",\\n        \"coordinates\": [\\n          -63.197418212890625,\\n          -17.788791656494141\\n        ]\\n      },\\n      \"properties\": {\\n        \"FID\": 25,\\n        \"CIUDAD\": \"Santa Cruz de La Sierra\",\\n        \"PAIS\": \"Bolívia\",\\n        \"CAPITAL\": \"N\"\\n      }\\n    },\\n    {\\n      \"type\": \"Feature\",\\n      \"id\": 26,\\n      \"geometry\": {\\n        \"type\": \"Point\",\\n        \"coordinates\": [\\n          -49.254810333251953,\\n          -16.726699829101577\\n        ]\\n      },\\n      \"properties\": {\\n        \"FID\": 26,\\n        \"CIUDAD\": \"Goiania\",\\n        \"PAIS\": \"Brasil\",\\n        \"CAPITAL\": \"N\"\\n      }\\n    },\\n    {\\n      \"type\": \"Feature\",\\n      \"id\": 27,\\n      \"geometry\": {\\n        \"type\": \"Point\",\\n        \"coordinates\": [\\n          -68.146247863769531,\\n          -16.499006271362319\\n        ]\\n      },\\n      \"properties\": {\\n        \"FID\": 27,\\n        \"CIUDAD\": \"La Paz\",\\n        \"PAIS\": \"Bolívia\",\\n        \"CAPITAL\": \"S\"\\n      }\\n    },\\n    {\\n      \"type\": \"Feature\",\\n      \"id\": 28,\\n      \"geometry\": {\\n        \"type\": \"Point\",\\n        \"coordinates\": [\\n          -71.522743225097685,\\n          -16.39753913879396\\n        ]\\n      },\\n      \"properties\": {\\n        \"FID\": 28,\\n        \"CIUDAD\": \"Arequipa\",\\n        \"PAIS\": \"Perú\",\\n        \"CAPITAL\": \"N\"\\n      }\\n    },\\n    {\\n      \"type\": \"Feature\",\\n      \"id\": 29,\\n      \"geometry\": {\\n        \"type\": \"Point\",\\n        \"coordinates\": [\\n          -47.89774703979495,\\n          -15.792109489440875\\n        ]\\n      },\\n      \"properties\": {\\n        \"FID\": 29,\\n        \"CIUDAD\": \"Brasilia\",\\n        \"PAIS\": \"Brasil\",\\n        \"CAPITAL\": \"S\"\\n      }\\n    },\\n    {\\n      \"type\": \"Feature\",\\n      \"id\": 30,\\n      \"geometry\": {\\n        \"type\": \"Point\",\\n        \"coordinates\": [\\n          -56.049999237060518,\\n          -15.550000190734892\\n        ]\\n      },\\n      \"properties\": {\\n        \"FID\": 30,\\n        \"CIUDAD\": \"Cuiaba\",\\n        \"PAIS\": \"Brasil\",\\n        \"CAPITAL\": \"N\"\\n      }\\n    },\\n    {\\n      \"type\": \"Feature\",\\n      \"id\": 31,\\n      \"geometry\": {\\n        \"type\": \"Point\",\\n        \"coordinates\": [\\n          -71.860000610351534,\\n          -13.600000381469712\\n        ]\\n      },\\n      \"properties\": {\\n        \"FID\": 31,\\n        \"CIUDAD\": \"Cuzco\",\\n        \"PAIS\": \"Perú\",\\n        \"CAPITAL\": \"N\"\\n      }\\n    },\\n    {\\n      \"type\": \"Feature\",\\n      \"id\": 32,\\n      \"geometry\": {\\n        \"type\": \"Point\",\\n        \"coordinates\": [\\n          -38.479999542236328,\\n          -12.600256919860797\\n        ]\\n      },\\n      \"properties\": {\\n        \"FID\": 32,\\n        \"CIUDAD\": \"Salvador\",\\n        \"PAIS\": \"Brasil\",\\n        \"CAPITAL\": \"N\"\\n      }\\n    },\\n    {\\n      \"type\": \"Feature\",\\n      \"id\": 33,\\n      \"geometry\": {\\n        \"type\": \"Point\",\\n        \"coordinates\": [\\n          -76.82355499267581,\\n          -12.067996025085478\\n        ]\\n      },\\n      \"properties\": {\\n        \"FID\": 33,\\n        \"CIUDAD\": \"Lima\",\\n        \"PAIS\": \"Perú\",\\n        \"CAPITAL\": \"S\"\\n      }\\n    },\\n    {\\n      \"type\": \"Feature\",\\n      \"id\": 34,\\n      \"geometry\": {\\n        \"type\": \"Point\",\\n        \"coordinates\": [\\n          -76.83563232421875,\\n          -12.043540000915527\\n        ]\\n      },\\n      \"properties\": {\\n        \"FID\": 34,\\n        \"CIUDAD\": \"Callao\",\\n        \"PAIS\": \"Perú\",\\n        \"CAPITAL\": \"N\"\\n      }\\n    },\\n    {\\n      \"type\": \"Feature\",\\n      \"id\": 35,\\n      \"geometry\": {\\n        \"type\": \"Point\",\\n        \"coordinates\": [\\n          -78.453147888183565,\\n          -8.9301004409789755\\n        ]\\n      },\\n      \"properties\": {\\n        \"FID\": 35,\\n        \"CIUDAD\": \"Chimbote\",\\n        \"PAIS\": \"Perú\",\\n        \"CAPITAL\": \"N\"\\n      }\\n    },\\n    {\\n      \"type\": \"Feature\",\\n      \"id\": 36,\\n      \"geometry\": {\\n        \"type\": \"Point\",\\n        \"coordinates\": [\\n          -63.900001525878906,\\n          -8.7500000000000426\\n        ]\\n      },\\n      \"properties\": {\\n        \"FID\": 36,\\n        \"CIUDAD\": \"Porto Velho\",\\n        \"PAIS\": \"Brasil\",\\n        \"CAPITAL\": \"N\"\\n      }\\n    },\\n    {\\n      \"type\": \"Feature\",\\n      \"id\": 37,\\n      \"geometry\": {\\n        \"type\": \"Point\",\\n        \"coordinates\": [\\n          -34.914638519287053,\\n          -8.0851678848266459\\n        ]\\n      },\\n      \"properties\": {\\n        \"FID\": 37,\\n        \"CIUDAD\": \"Recife\",\\n        \"PAIS\": \"Brasil\",\\n        \"CAPITAL\": \"N\"\\n      }\\n    },\\n    {\\n      \"type\": \"Feature\",\\n      \"id\": 38,\\n      \"geometry\": {\\n        \"type\": \"Point\",\\n        \"coordinates\": [\\n          -79,\\n          -7.9299998283386373\\n        ]\\n      },\\n      \"properties\": {\\n        \"FID\": 38,\\n        \"CIUDAD\": \"Trujillo\",\\n        \"PAIS\": \"Perú\",\\n        \"CAPITAL\": \"N\"\\n      }\\n    },\\n    {\\n      \"type\": \"Feature\",\\n      \"id\": 39,\\n      \"geometry\": {\\n        \"type\": \"Point\",\\n        \"coordinates\": [\\n          -79.830001831054716,\\n          -6.6199998855590394\\n        ]\\n      },\\n      \"properties\": {\\n        \"FID\": 39,\\n        \"CIUDAD\": \"Chiclayo\",\\n        \"PAIS\": \"Perú\",\\n        \"CAPITAL\": \"N\"\\n      }\\n    },\\n    {\\n      \"type\": \"Feature\",\\n      \"id\": 40,\\n      \"geometry\": {\\n        \"type\": \"Point\",\\n        \"coordinates\": [\\n          -35.25,\\n          -5.780000209808378\\n        ]\\n      },\\n      \"properties\": {\\n        \"FID\": 40,\\n        \"CIUDAD\": \"Natal\",\\n        \"PAIS\": \"Brasil\",\\n        \"CAPITAL\": \"N\"\\n      }\\n    },\\n    {\\n      \"type\": \"Feature\",\\n      \"id\": 41,\\n      \"geometry\": {\\n        \"type\": \"Point\",\\n        \"coordinates\": [\\n          -38.588901519775391,\\n          -3.7833218574523784\\n        ]\\n      },\\n      \"properties\": {\\n        \"FID\": 41,\\n        \"CIUDAD\": \"Fortaleza\",\\n        \"PAIS\": \"Brasil\",\\n        \"CAPITAL\": \"N\"\\n      }\\n    },\\n    {\\n      \"type\": \"Feature\",\\n      \"id\": 42,\\n      \"geometry\": {\\n        \"type\": \"Point\",\\n        \"coordinates\": [\\n          -73.191490173339872,\\n          -3.7528953552246094\\n        ]\\n      },\\n      \"properties\": {\\n        \"FID\": 42,\\n        \"CIUDAD\": \"Iquitos\",\\n        \"PAIS\": \"Perú\",\\n        \"CAPITAL\": \"N\"\\n      }\\n    },\\n    {\\n      \"type\": \"Feature\",\\n      \"id\": 43,\\n      \"geometry\": {\\n        \"type\": \"Point\",\\n        \"coordinates\": [\\n          -60.014617919921847,\\n          -3.1223049163818501\\n        ]\\n      },\\n      \"properties\": {\\n        \"FID\": 43,\\n        \"CIUDAD\": \"Manaus\",\\n        \"PAIS\": \"Brasil\",\\n        \"CAPITAL\": \"N\"\\n      }\\n    },\\n    {\\n      \"type\": \"Feature\",\\n      \"id\": 44,\\n      \"geometry\": {\\n        \"type\": \"Point\",\\n        \"coordinates\": [\\n          -54.610000610351591,\\n          -2.4600000381469442\\n        ]\\n      },\\n      \"properties\": {\\n        \"FID\": 44,\\n        \"CIUDAD\": \"Santarem\",\\n        \"PAIS\": \"Brasil\",\\n        \"CAPITAL\": \"N\"\\n      }\\n    },\\n    {\\n      \"type\": \"Feature\",\\n      \"id\": 45,\\n      \"geometry\": {\\n        \"type\": \"Point\",\\n        \"coordinates\": [\\n          -79.909393310546847,\\n          -2.2038161754608154\\n        ]\\n      },\\n      \"properties\": {\\n        \"FID\": 45,\\n        \"CIUDAD\": \"Guayaquil\",\\n        \"PAIS\": \"Ecuador\",\\n        \"CAPITAL\": \"N\"\\n      }\\n    },\\n    {\\n      \"type\": \"Feature\",\\n      \"id\": 46,\\n      \"geometry\": {\\n        \"type\": \"Point\",\\n        \"coordinates\": [\\n          -48.31627655029294,\\n          -1.6053290367126181\\n        ]\\n      },\\n      \"properties\": {\\n        \"FID\": 46,\\n        \"CIUDAD\": \"Belem\",\\n        \"PAIS\": \"Brasil\",\\n        \"CAPITAL\": \"N\"\\n      }\\n    },\\n    {\\n      \"type\": \"Feature\",\\n      \"id\": 47,\\n      \"geometry\": {\\n        \"type\": \"Point\",\\n        \"coordinates\": [\\n          -78.52428436279294,\\n          -0.22949813306327371\\n        ]\\n      },\\n      \"properties\": {\\n        \"FID\": 47,\\n        \"CIUDAD\": \"Quito\",\\n        \"PAIS\": \"Ecuador\",\\n        \"CAPITAL\": \"S\"\\n      }\\n    },\\n    {\\n      \"type\": \"Feature\",\\n      \"id\": 48,\\n      \"geometry\": {\\n        \"type\": \"Point\",\\n        \"coordinates\": [\\n          -60.499999999999943,\\n          2.7499999999999858\\n        ]\\n      },\\n      \"properties\": {\\n        \"FID\": 48,\\n        \"CIUDAD\": \"Boa Vista\",\\n        \"PAIS\": \"Brasil\",\\n        \"CAPITAL\": \"N\"\\n      }\\n    },\\n    {\\n      \"type\": \"Feature\",\\n      \"id\": 49,\\n      \"geometry\": {\\n        \"type\": \"Point\",\\n        \"coordinates\": [\\n          -76.522438049316406,\\n          3.4568552970886088\\n        ]\\n      },\\n      \"properties\": {\\n        \"FID\": 49,\\n        \"CIUDAD\": \"Cali\",\\n        \"PAIS\": \"Colombia\",\\n        \"CAPITAL\": \"N\"\\n      }\\n    },\\n    {\\n      \"type\": \"Feature\",\\n      \"id\": 50,\\n      \"geometry\": {\\n        \"type\": \"Point\",\\n        \"coordinates\": [\\n          -74.080513000488224,\\n          4.6302199363708496\\n        ]\\n      },\\n      \"properties\": {\\n        \"FID\": 50,\\n        \"CIUDAD\": \"Bogotá\",\\n        \"PAIS\": \"Colombia\",\\n        \"CAPITAL\": \"S\"\\n      }\\n    },\\n    {\\n      \"type\": \"Feature\",\\n      \"id\": 51,\\n      \"geometry\": {\\n        \"type\": \"Point\",\\n        \"coordinates\": [\\n          -52.400001525878878,\\n          4.9200000762939879\\n        ]\\n      },\\n      \"properties\": {\\n        \"FID\": 51,\\n        \"CIUDAD\": \"Cayena\",\\n        \"PAIS\": \"Guayana Francesa\",\\n        \"CAPITAL\": \"S\"\\n      }\\n    },\\n    {\\n      \"type\": \"Feature\",\\n      \"id\": 52,\\n      \"geometry\": {\\n        \"type\": \"Point\",\\n        \"coordinates\": [\\n          -75.592033386230469,\\n          6.2411465644836426\\n        ]\\n      },\\n      \"properties\": {\\n        \"FID\": 52,\\n        \"CIUDAD\": \"Medellín\",\\n        \"PAIS\": \"Colombia\",\\n        \"CAPITAL\": \"N\"\\n      }\\n    },\\n    {\\n      \"type\": \"Feature\",\\n      \"id\": 53,\\n      \"geometry\": {\\n        \"type\": \"Point\",\\n        \"coordinates\": [\\n          -58.169998168945284,\\n          6.7699999809264853\\n        ]\\n      },\\n      \"properties\": {\\n        \"FID\": 53,\\n        \"CIUDAD\": \"Georgetown\",\\n        \"PAIS\": \"Guyana\",\\n        \"CAPITAL\": \"S\"\\n      }\\n    },\\n    {\\n      \"type\": \"Feature\",\\n      \"id\": 54,\\n      \"geometry\": {\\n        \"type\": \"Point\",\\n        \"coordinates\": [\\n          -72.005455017089844,\\n          7.5766010284423828\\n        ]\\n      },\\n      \"properties\": {\\n        \"FID\": 54,\\n        \"CIUDAD\": \"San Cristóbal\",\\n        \"PAIS\": \"Venezuela\",\\n        \"CAPITAL\": \"N\"\\n      }\\n    },\\n    {\\n      \"type\": \"Feature\",\\n      \"id\": 55,\\n      \"geometry\": {\\n        \"type\": \"Point\",\\n        \"coordinates\": [\\n          -69.339195251464844,\\n          10.065665245056195\\n        ]\\n      },\\n      \"properties\": {\\n        \"FID\": 55,\\n        \"CIUDAD\": \"Barquisimeto\",\\n        \"PAIS\": \"Venezuela\",\\n        \"CAPITAL\": \"N\"\\n      }\\n    },\\n    {\\n      \"type\": \"Feature\",\\n      \"id\": 56,\\n      \"geometry\": {\\n        \"type\": \"Point\",\\n        \"coordinates\": [\\n          -68.003112792968778,\\n          10.178220748901353\\n        ]\\n      },\\n      \"properties\": {\\n        \"FID\": 56,\\n        \"CIUDAD\": \"Valencia\",\\n        \"PAIS\": \"Venezuela\",\\n        \"CAPITAL\": \"N\"\\n      }\\n    },\\n    {\\n      \"type\": \"Feature\",\\n      \"id\": 57,\\n      \"geometry\": {\\n        \"type\": \"Point\",\\n        \"coordinates\": [\\n          -66.898284912109403,\\n          10.496048927307115\\n        ]\\n      },\\n      \"properties\": {\\n        \"FID\": 57,\\n        \"CIUDAD\": \"Caracas\",\\n        \"PAIS\": \"Venezuela\",\\n        \"CAPITAL\": \"S\"\\n      }\\n    },\\n    {\\n      \"type\": \"Feature\",\\n      \"id\": 58,\\n      \"geometry\": {\\n        \"type\": \"Point\",\\n        \"coordinates\": [\\n          -71.63714599609375,\\n          10.645043373107924\\n        ]\\n      },\\n      \"properties\": {\\n        \"FID\": 58,\\n        \"CIUDAD\": \"Maracaibo\",\\n        \"PAIS\": \"Venezuela\",\\n        \"CAPITAL\": \"N\"\\n      }\\n    },\\n    {\\n      \"type\": \"Feature\",\\n      \"id\": 59,\\n      \"geometry\": {\\n        \"type\": \"Point\",\\n        \"coordinates\": [\\n          -74.680000305175724,\\n          11.014294624328613\\n        ]\\n      },\\n      \"properties\": {\\n        \"FID\": 59,\\n        \"CIUDAD\": \"Barranquilla\",\\n        \"PAIS\": \"Colombia\",\\n        \"CAPITAL\": \"N\"\\n      }\\n    }\\n  ]\\n}'"
            ]
          },
          "metadata": {
            "tags": []
          },
          "execution_count": 6
        }
      ]
    },
    {
      "cell_type": "markdown",
      "metadata": {
        "id": "1G5Rp42x3KHa",
        "colab_type": "text"
      },
      "source": [
        "## Nivel 4 (4 pt):"
      ]
    },
    {
      "cell_type": "markdown",
      "metadata": {
        "id": "KGJx9ZQRDwba",
        "colab_type": "text"
      },
      "source": [
        "1. Un ingeniero está realizando el diseño de un canal de regadío para un pequeño pueblo, cree una función para que, dependiendo del tipo de sección que usará, pueda saber el área, perímetro mojado, radio hidráulico y espejo de agua de su sección. (Elegir 2 tipos de sección)\n",
        "\n",
        "![](https://upload.wikimedia.org/wikipedia/commons/5/59/Radio_Hidr%C3%A1ulico_geometria_fundamental.gif)"
      ]
    },
    {
      "cell_type": "markdown",
      "metadata": {
        "id": "wPPUwC7I3Ohq",
        "colab_type": "text"
      },
      "source": [
        "2. Teniendo las listas:\n",
        "\n",
        "    x = [8, 2, 11, 6, 5, 4, 12, 9, 6, 1]\n",
        "    \n",
        "    y = [3, 10, 3, 6, 8, 12, 1, 4, 9, 14]\n",
        "    \n",
        "    Calcule la pendiente de la recta\n",
        "\n",
        "    $$ m = \\frac {\\sum{xy} - \\frac{(\\sum{x}) (\\sum{y})}n} {\\sum{x}^2 - {\\frac {(\\sum{x})^2}n}} $$\n",
        "\n",
        "    Calcule la intercepción en **y** de la forma\n",
        "\n",
        "    $$ b = \\bar{y} - m\\bar{x} $$\n",
        "\n",
        "    Use la pendiente y la intercepción en y para formar la ecuación de la recta."
      ]
    }
  ]
}