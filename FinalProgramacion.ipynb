{
  "nbformat": 4,
  "nbformat_minor": 0,
  "metadata": {
    "colab": {
      "name": "FinalProgramacion.ipynb",
      "provenance": [],
      "collapsed_sections": [],
      "include_colab_link": true
    },
    "kernelspec": {
      "name": "python3",
      "display_name": "Python 3"
    }
  },
  "cells": [
    {
      "cell_type": "markdown",
      "metadata": {
        "id": "view-in-github",
        "colab_type": "text"
      },
      "source": [
        "<a href=\"https://colab.research.google.com/github/MllrJhssl/DC/blob/master/FinalProgramacion.ipynb\" target=\"_parent\"><img src=\"https://colab.research.google.com/assets/colab-badge.svg\" alt=\"Open In Colab\"/></a>"
      ]
    },
    {
      "cell_type": "markdown",
      "metadata": {
        "id": "y7Oq4Se1jAkk",
        "colab_type": "text"
      },
      "source": [
        "# EXAMEN PROGRAMACIÓN 2"
      ]
    },
    {
      "cell_type": "markdown",
      "metadata": {
        "id": "d6Dtx5cijHuN",
        "colab_type": "text"
      },
      "source": [
        "Nombres y apellidos: Miller Jhassel Romero Gutierrez\n",
        "\n",
        "Código: 15160199"
      ]
    },
    {
      "cell_type": "markdown",
      "metadata": {
        "id": "V2Gv10h-SbX4",
        "colab_type": "text"
      },
      "source": [
        "***\n",
        "Instrucciones:\n",
        "- El examen es personal\n",
        "- Se puede usar internet\n",
        "- Una vez terminado, descargar en formato **.ipynb** su examen con su código de estudiante y subir a esta [carpeta compartida](https://drive.google.com/drive/folders/1OGrAClV82XRbY2wDRryg26akB-TWvBid) (ejemplo: 17160099.ipynb)\n",
        "- **En caso tengan la idea, pero no le sale, se considerará explicar lo que quiere realizar.**\n",
        "***"
      ]
    },
    {
      "cell_type": "markdown",
      "metadata": {
        "id": "2NrjVzQIjRH2",
        "colab_type": "text"
      },
      "source": [
        "## PREGUNTAS"
      ]
    },
    {
      "cell_type": "markdown",
      "metadata": {
        "id": "RsybLig8M_PM",
        "colab_type": "text"
      },
      "source": [
        "### **1. Teoría** (0.5 pt c/u)"
      ]
    },
    {
      "cell_type": "markdown",
      "metadata": {
        "id": "GJmUD1eKM_Ik",
        "colab_type": "text"
      },
      "source": [
        "1_1 Explique **con sus propias palabras** qué es Git y para qué sirve."
      ]
    },
    {
      "cell_type": "markdown",
      "metadata": {
        "id": "Mt7T2nGUTXl8",
        "colab_type": "text"
      },
      "source": [
        ""
      ]
    },
    {
      "cell_type": "markdown",
      "metadata": {
        "id": "PCFp24XhjBWe",
        "colab_type": "text"
      },
      "source": [
        "Un git es un controlodar de versiones lo cual sigue una metodologia para trabajar un proyecto"
      ]
    },
    {
      "cell_type": "markdown",
      "metadata": {
        "id": "CRBKzAIEM_CC",
        "colab_type": "text"
      },
      "source": [
        "1_2 **Con sus propias palabras** define qué son los índices y qué es la identación."
      ]
    },
    {
      "cell_type": "markdown",
      "metadata": {
        "id": "1ExvOS8dTVfF",
        "colab_type": "text"
      },
      "source": [
        "indices, el cual nos da una posicion dada en la lista con un numero el cual empieza con ceroy la identancion es el espacio en blanco que se da entre las sentencias."
      ]
    },
    {
      "cell_type": "markdown",
      "metadata": {
        "id": "sAJASl4ZNQCS",
        "colab_type": "text"
      },
      "source": [
        "**1_3** Cómo se realiza una consulta (subset) en una lista, diccionario y data frame."
      ]
    },
    {
      "cell_type": "markdown",
      "metadata": {
        "id": "RR7IK7mxNP7g",
        "colab_type": "text"
      },
      "source": [
        "1_4 Cuál es la diferencia entre un DataFrame y un GeoDataFrame."
      ]
    },
    {
      "cell_type": "markdown",
      "metadata": {
        "id": "3V3e0aShT0rQ",
        "colab_type": "text"
      },
      "source": [
        "es un estructura de pandas que se forma a partir de una lista o diccionarios y series, donde especificamos columnas y filas, el geodataframe se crea a partir de un dataframe donde tienen columnas o filas con geometrias para la cual usa geopandas "
      ]
    },
    {
      "cell_type": "markdown",
      "metadata": {
        "id": "t3570C7GNTHy",
        "colab_type": "text"
      },
      "source": [
        "1_5 Explique **con sus propias palabras** para qué puede servir usar geocódigos.\n"
      ]
    },
    {
      "cell_type": "markdown",
      "metadata": {
        "id": "1D798an3pbWx",
        "colab_type": "text"
      },
      "source": [
        "1_6 Explique con sus propias palabras qué es un boxplot."
      ]
    },
    {
      "cell_type": "markdown",
      "metadata": {
        "id": "7Ulx1w7bT7xb",
        "colab_type": "text"
      },
      "source": [
        "El diagrama de caja que se en matplotlib que usa el boxplot para generar graficos en base a diferentes datos en un determinado tiempo"
      ]
    },
    {
      "cell_type": "markdown",
      "metadata": {
        "id": "piq_lpOBpj-6",
        "colab_type": "text"
      },
      "source": [
        "1_7 Mencione **con sus propias palabras** alguna utilidad de Google Earth Engine."
      ]
    },
    {
      "cell_type": "markdown",
      "metadata": {
        "id": "SXd4Mb5iUAbk",
        "colab_type": "text"
      },
      "source": [
        "El GEE proporciona informacion de datos para analisar para un trabajo, sea verificar los tiempos de cambio de uso de suelo, topografia, areas urbanas etc, esto a gracias a la informacion actualizada que proporciona google"
      ]
    },
    {
      "cell_type": "markdown",
      "metadata": {
        "id": "bJKqQZFnGbiI",
        "colab_type": "text"
      },
      "source": [
        "1_8 Explique **con sus propias** palabras 2 librerías para el manejo de datos espaciales."
      ]
    },
    {
      "cell_type": "markdown",
      "metadata": {
        "id": "T0P7sAWaUCOe",
        "colab_type": "text"
      },
      "source": [
        "la libreria fiona que transforma datos, la de shapely que crea geometrias"
      ]
    },
    {
      "cell_type": "markdown",
      "metadata": {
        "id": "tsIRW0DmGjtc",
        "colab_type": "text"
      },
      "source": [
        "1_9 Explique con sus propias palabras para qué puede servir web scrapping."
      ]
    },
    {
      "cell_type": "markdown",
      "metadata": {
        "id": "zQe5RarSUNZP",
        "colab_type": "text"
      },
      "source": [
        "se usa extraer informacion de una base de datos, de esa forma se extrae el HTML el cual muestra los datos de una pagina"
      ]
    },
    {
      "cell_type": "markdown",
      "metadata": {
        "id": "LR8SagI3Gmn-",
        "colab_type": "text"
      },
      "source": [
        "1_10 ¿Dentro de los GIS web, qué son los tiles? Mencione algunas fuentes."
      ]
    },
    {
      "cell_type": "code",
      "metadata": {
        "id": "_AJyoRUH_VHp",
        "colab_type": "code",
        "colab": {}
      },
      "source": [
        ""
      ],
      "execution_count": 0,
      "outputs": []
    },
    {
      "cell_type": "markdown",
      "metadata": {
        "id": "Kko0ftkgN30B",
        "colab_type": "text"
      },
      "source": [
        "### **2. Sintaxis de python:** (2pt c/u)"
      ]
    },
    {
      "cell_type": "markdown",
      "metadata": {
        "id": "QA9aIjwEO3G-",
        "colab_type": "text"
      },
      "source": [
        "2_1 Existen muchas formas de normalizar tus datos, una muy común es la siguiente: \n",
        "\n",
        "$$X_{normalized} = \\frac{X - X_{media}} {X_{stddev}}$$\n",
        "\n",
        "Cómo se aplicaría esa fórmula a la siguiente lista."
      ]
    },
    {
      "cell_type": "code",
      "metadata": {
        "id": "1RkhsJnSsRO8",
        "colab_type": "code",
        "colab": {}
      },
      "source": [
        "dato = [6,6,6,8,6,8,6,6,4,6,6,6,6,4,6,4,4,4,4,2,2,4,10,4,4,10,4,6,4,6,2,2,4,2,2,4,2,2,2,4,4,4,2,2,6,2,4,4,8,8,2,4,4,4,6,2,4,4,2,6,2,8,4,2,4,2,4,4,4,4,4,4,8,10,2,2,4,4,4,4,4,4,2] # Datos referenciales"
      ],
      "execution_count": 0,
      "outputs": []
    },
    {
      "cell_type": "markdown",
      "metadata": {
        "id": "y1n4lkY8fA95",
        "colab_type": "text"
      },
      "source": [
        ""
      ]
    },
    {
      "cell_type": "markdown",
      "metadata": {
        "id": "qFBd7g-ZO4ZE",
        "colab_type": "text"
      },
      "source": [
        "2_2 Crea una función que hayas aplicado en algún otro curso en el que estés matriculado. Explique."
      ]
    },
    {
      "cell_type": "markdown",
      "metadata": {
        "id": "vLRiqsdKNe1M",
        "colab_type": "text"
      },
      "source": [
        "### **3. Manipulación de datos espaciales:** (11 pt)"
      ]
    },
    {
      "cell_type": "markdown",
      "metadata": {
        "id": "GjCrf9cmiyp2",
        "colab_type": "text"
      },
      "source": [
        "3_1 Leer el archivo de [Precipitaciones](https://raw.githubusercontent.com/ryali93/ExamenProgramacion/master/data/precipitaciones.csv) y crear un DataFrame. (1pt)"
      ]
    },
    {
      "cell_type": "code",
      "metadata": {
        "id": "KLrZ3KDFkuC5",
        "colab_type": "code",
        "colab": {}
      },
      "source": [
        "\n",
        "import pandas as pd\n",
        "import json \n",
        "import requests"
      ],
      "execution_count": 0,
      "outputs": []
    },
    {
      "cell_type": "code",
      "metadata": {
        "id": "XLHQnB7sOIeb",
        "colab_type": "code",
        "colab": {}
      },
      "source": [
        "!pip install fiona\n",
        "!pip install shapely \n",
        "!pip install geopandas \n",
        "!pip install descartes\n",
        "!pip install mapclassify\n",
        "from geopandas import GeoDataFrame \n",
        "from shapely.geometry import Point "
      ],
      "execution_count": 0,
      "outputs": []
    },
    {
      "cell_type": "code",
      "metadata": {
        "id": "goBqRgZMY-oJ",
        "colab_type": "code",
        "colab": {}
      },
      "source": [
        "from datetime import datetime\n",
        "import fiona\n"
      ],
      "execution_count": 0,
      "outputs": []
    },
    {
      "cell_type": "code",
      "metadata": {
        "id": "_1TxKxRilNLe",
        "colab_type": "code",
        "outputId": "43abcc20-1d3c-48fa-b1b5-bc3707e460c4",
        "colab": {
          "base_uri": "https://localhost:8080/",
          "height": 306
        }
      },
      "source": [
        "data = pd.read_csv('precipitaciones.csv',sep=\";\")\n",
        "data.head()\n",
        "df = pd.DataFrame(data)\n",
        "df.head()"
      ],
      "execution_count": 0,
      "outputs": [
        {
          "output_type": "execute_result",
          "data": {
            "text/html": [
              "<div>\n",
              "<style scoped>\n",
              "    .dataframe tbody tr th:only-of-type {\n",
              "        vertical-align: middle;\n",
              "    }\n",
              "\n",
              "    .dataframe tbody tr th {\n",
              "        vertical-align: top;\n",
              "    }\n",
              "\n",
              "    .dataframe thead th {\n",
              "        text-align: right;\n",
              "    }\n",
              "</style>\n",
              "<table border=\"1\" class=\"dataframe\">\n",
              "  <thead>\n",
              "    <tr style=\"text-align: right;\">\n",
              "      <th></th>\n",
              "      <th>FECHA</th>\n",
              "      <th>ASUNCION</th>\n",
              "      <th>CHILETE</th>\n",
              "      <th>CONTUMAZA</th>\n",
              "      <th>GRANJA PORCON</th>\n",
              "      <th>HACIENDA LLAGADEN</th>\n",
              "      <th>HACIENDA TUNAD</th>\n",
              "      <th>LAGU COMPUERTAS</th>\n",
              "      <th>LAS PALTAS</th>\n",
              "      <th>LIVES</th>\n",
              "      <th>LLAPA</th>\n",
              "      <th>MAGDALENA</th>\n",
              "      <th>MONTEGRANDE</th>\n",
              "      <th>QUEBRADA HONDA</th>\n",
              "      <th>SAN JUAN</th>\n",
              "      <th>SAN MIGUEL</th>\n",
              "      <th>SAN PABLO</th>\n",
              "      <th>TEMBLADERA</th>\n",
              "    </tr>\n",
              "  </thead>\n",
              "  <tbody>\n",
              "    <tr>\n",
              "      <th>0</th>\n",
              "      <td>1-3-1961</td>\n",
              "      <td>NaN</td>\n",
              "      <td>NaN</td>\n",
              "      <td>NaN</td>\n",
              "      <td>NaN</td>\n",
              "      <td>NaN</td>\n",
              "      <td>NaN</td>\n",
              "      <td>NaN</td>\n",
              "      <td>NaN</td>\n",
              "      <td>NaN</td>\n",
              "      <td>NaN</td>\n",
              "      <td>NaN</td>\n",
              "      <td>NaN</td>\n",
              "      <td>NaN</td>\n",
              "      <td>NaN</td>\n",
              "      <td>NaN</td>\n",
              "      <td>NaN</td>\n",
              "      <td>NaN</td>\n",
              "    </tr>\n",
              "    <tr>\n",
              "      <th>1</th>\n",
              "      <td>2-3-1961</td>\n",
              "      <td>NaN</td>\n",
              "      <td>NaN</td>\n",
              "      <td>NaN</td>\n",
              "      <td>NaN</td>\n",
              "      <td>NaN</td>\n",
              "      <td>NaN</td>\n",
              "      <td>NaN</td>\n",
              "      <td>NaN</td>\n",
              "      <td>NaN</td>\n",
              "      <td>NaN</td>\n",
              "      <td>NaN</td>\n",
              "      <td>NaN</td>\n",
              "      <td>NaN</td>\n",
              "      <td>NaN</td>\n",
              "      <td>NaN</td>\n",
              "      <td>NaN</td>\n",
              "      <td>NaN</td>\n",
              "    </tr>\n",
              "    <tr>\n",
              "      <th>2</th>\n",
              "      <td>3-3-1961</td>\n",
              "      <td>NaN</td>\n",
              "      <td>NaN</td>\n",
              "      <td>NaN</td>\n",
              "      <td>NaN</td>\n",
              "      <td>NaN</td>\n",
              "      <td>NaN</td>\n",
              "      <td>NaN</td>\n",
              "      <td>NaN</td>\n",
              "      <td>NaN</td>\n",
              "      <td>NaN</td>\n",
              "      <td>NaN</td>\n",
              "      <td>NaN</td>\n",
              "      <td>NaN</td>\n",
              "      <td>NaN</td>\n",
              "      <td>NaN</td>\n",
              "      <td>NaN</td>\n",
              "      <td>NaN</td>\n",
              "    </tr>\n",
              "    <tr>\n",
              "      <th>3</th>\n",
              "      <td>4-3-1961</td>\n",
              "      <td>NaN</td>\n",
              "      <td>NaN</td>\n",
              "      <td>NaN</td>\n",
              "      <td>NaN</td>\n",
              "      <td>NaN</td>\n",
              "      <td>NaN</td>\n",
              "      <td>NaN</td>\n",
              "      <td>NaN</td>\n",
              "      <td>NaN</td>\n",
              "      <td>NaN</td>\n",
              "      <td>NaN</td>\n",
              "      <td>NaN</td>\n",
              "      <td>NaN</td>\n",
              "      <td>NaN</td>\n",
              "      <td>NaN</td>\n",
              "      <td>NaN</td>\n",
              "      <td>NaN</td>\n",
              "    </tr>\n",
              "    <tr>\n",
              "      <th>4</th>\n",
              "      <td>5-3-1961</td>\n",
              "      <td>NaN</td>\n",
              "      <td>NaN</td>\n",
              "      <td>NaN</td>\n",
              "      <td>NaN</td>\n",
              "      <td>NaN</td>\n",
              "      <td>NaN</td>\n",
              "      <td>NaN</td>\n",
              "      <td>NaN</td>\n",
              "      <td>NaN</td>\n",
              "      <td>NaN</td>\n",
              "      <td>NaN</td>\n",
              "      <td>NaN</td>\n",
              "      <td>NaN</td>\n",
              "      <td>NaN</td>\n",
              "      <td>NaN</td>\n",
              "      <td>NaN</td>\n",
              "      <td>NaN</td>\n",
              "    </tr>\n",
              "  </tbody>\n",
              "</table>\n",
              "</div>"
            ],
            "text/plain": [
              "      FECHA  ASUNCION  CHILETE  ...  SAN MIGUEL  SAN PABLO  TEMBLADERA\n",
              "0  1-3-1961       NaN      NaN  ...         NaN        NaN         NaN\n",
              "1  2-3-1961       NaN      NaN  ...         NaN        NaN         NaN\n",
              "2  3-3-1961       NaN      NaN  ...         NaN        NaN         NaN\n",
              "3  4-3-1961       NaN      NaN  ...         NaN        NaN         NaN\n",
              "4  5-3-1961       NaN      NaN  ...         NaN        NaN         NaN\n",
              "\n",
              "[5 rows x 18 columns]"
            ]
          },
          "metadata": {
            "tags": []
          },
          "execution_count": 76
        }
      ]
    },
    {
      "cell_type": "markdown",
      "metadata": {
        "id": "Q6ECnz2Ki-7e",
        "colab_type": "text"
      },
      "source": [
        "3_2 Hacer una consulta al DataFrame para identificar **cuál es la estación donde más llovió y qué día fue**. (2pt)"
      ]
    },
    {
      "cell_type": "code",
      "metadata": {
        "id": "rYEm2BG9RGbn",
        "colab_type": "code",
        "outputId": "22479e70-1f21-4ed5-d7b9-6902e3d0d4ad",
        "colab": {
          "base_uri": "https://localhost:8080/",
          "height": 340
        }
      },
      "source": [
        "df.max()"
      ],
      "execution_count": 0,
      "outputs": [
        {
          "output_type": "execute_result",
          "data": {
            "text/plain": [
              "FECHA                9-9-2014\n",
              "ASUNCION                 80.2\n",
              "CHILETE                  48.6\n",
              "CONTUMAZA                 412\n",
              "GRANJA PORCON            88.2\n",
              "HACIENDA LLAGADEN        42.3\n",
              "HACIENDA TUNAD           46.1\n",
              "LAGU COMPUERTAS          43.5\n",
              "LAS PALTAS               62.5\n",
              "LIVES                   101.9\n",
              "LLAPA                      59\n",
              "MAGDALENA                49.6\n",
              "MONTEGRANDE               110\n",
              "QUEBRADA HONDA           62.2\n",
              "SAN JUAN                 74.1\n",
              "SAN MIGUEL              100.3\n",
              "SAN PABLO                55.4\n",
              "TEMBLADERA              108.3\n",
              "dtype: object"
            ]
          },
          "metadata": {
            "tags": []
          },
          "execution_count": 77
        }
      ]
    },
    {
      "cell_type": "code",
      "metadata": {
        "id": "N3z_kgTnPwcP",
        "colab_type": "code",
        "outputId": "6aadbf9c-f928-4cb3-b3c9-9d34d6780d91",
        "colab": {
          "base_uri": "https://localhost:8080/",
          "height": 34
        }
      },
      "source": [
        "a = df.columns\n",
        "a[3]"
      ],
      "execution_count": 0,
      "outputs": [
        {
          "output_type": "execute_result",
          "data": {
            "text/plain": [
              "'CONTUMAZA'"
            ]
          },
          "metadata": {
            "tags": []
          },
          "execution_count": 78
        }
      ]
    },
    {
      "cell_type": "code",
      "metadata": {
        "id": "ampvtxgtP81l",
        "colab_type": "code",
        "outputId": "0b394b42-2a07-46f1-f34e-0057f5ec78b5",
        "colab": {
          "base_uri": "https://localhost:8080/",
          "height": 34
        }
      },
      "source": [
        "b = df.max()\n",
        "b[0]"
      ],
      "execution_count": 0,
      "outputs": [
        {
          "output_type": "execute_result",
          "data": {
            "text/plain": [
              "'9-9-2014'"
            ]
          },
          "metadata": {
            "tags": []
          },
          "execution_count": 79
        }
      ]
    },
    {
      "cell_type": "markdown",
      "metadata": {
        "id": "7JhdCnYxI6jS",
        "colab_type": "text"
      },
      "source": [
        "3_3 Leer el archivo de [estaciones](https://raw.githubusercontent.com/ryali93/ExamenProgramacion/master/data/estaciones.csv) y crear un DataFrame. (1 pt)"
      ]
    },
    {
      "cell_type": "code",
      "metadata": {
        "id": "ElTZNf8RkRKq",
        "colab_type": "code",
        "outputId": "ca32083a-2a36-46cd-d89b-04062bc629f1",
        "colab": {
          "base_uri": "https://localhost:8080/",
          "height": 343
        }
      },
      "source": [
        "dat = pd.read_csv('estaciones.csv')\n",
        "dat.head()\n",
        "df = pd.DataFrame(dat)\n",
        "df.head()"
      ],
      "execution_count": 0,
      "outputs": [
        {
          "output_type": "execute_result",
          "data": {
            "text/html": [
              "<div>\n",
              "<style scoped>\n",
              "    .dataframe tbody tr th:only-of-type {\n",
              "        vertical-align: middle;\n",
              "    }\n",
              "\n",
              "    .dataframe tbody tr th {\n",
              "        vertical-align: top;\n",
              "    }\n",
              "\n",
              "    .dataframe thead th {\n",
              "        text-align: right;\n",
              "    }\n",
              "</style>\n",
              "<table border=\"1\" class=\"dataframe\">\n",
              "  <thead>\n",
              "    <tr style=\"text-align: right;\">\n",
              "      <th></th>\n",
              "      <th>Unnamed: 0</th>\n",
              "      <th>COD_ESTA</th>\n",
              "      <th>NOM_ESTA</th>\n",
              "      <th>COD_TIPEST</th>\n",
              "      <th>TIP_EST</th>\n",
              "      <th>COD_SUBEST</th>\n",
              "      <th>TIP_SUBEST</th>\n",
              "      <th>COD_EST</th>\n",
              "      <th>ESTADO</th>\n",
              "      <th>ANO_INICIO</th>\n",
              "      <th>ANO_FINAL</th>\n",
              "      <th>COD_DEP</th>\n",
              "      <th>NOM_DEP</th>\n",
              "      <th>COD_PRO</th>\n",
              "      <th>NOM_PRO</th>\n",
              "      <th>COD_DIS</th>\n",
              "      <th>NOM_DIS</th>\n",
              "      <th>COD_AAA</th>\n",
              "      <th>NOM_AAA</th>\n",
              "      <th>COD_ALA</th>\n",
              "      <th>NOM_ALA</th>\n",
              "      <th>COD_VER</th>\n",
              "      <th>NOM_VER</th>\n",
              "      <th>COD_CUE</th>\n",
              "      <th>NOM_CUE</th>\n",
              "      <th>LONGITUD</th>\n",
              "      <th>LATITUD</th>\n",
              "      <th>ALTITUD</th>\n",
              "      <th>INSTI_OPER</th>\n",
              "      <th>RIO</th>\n",
              "      <th>AREACAP</th>\n",
              "      <th>COORDX</th>\n",
              "      <th>COORDY</th>\n",
              "    </tr>\n",
              "  </thead>\n",
              "  <tbody>\n",
              "    <tr>\n",
              "      <th>0</th>\n",
              "      <td>0</td>\n",
              "      <td>210402</td>\n",
              "      <td>LAGUNILLAS</td>\n",
              "      <td>1</td>\n",
              "      <td>HIDROMETRICA</td>\n",
              "      <td>HLM</td>\n",
              "      <td>LIMNIMETRICA</td>\n",
              "      <td>C</td>\n",
              "      <td>CERRADO</td>\n",
              "      <td>1961</td>\n",
              "      <td></td>\n",
              "      <td>21</td>\n",
              "      <td>PUNO</td>\n",
              "      <td>2107</td>\n",
              "      <td>LAMPA</td>\n",
              "      <td>210709</td>\n",
              "      <td>SANTA LUCIA</td>\n",
              "      <td>14</td>\n",
              "      <td>TITICACA</td>\n",
              "      <td>56.0</td>\n",
              "      <td>Coata - Ilpa</td>\n",
              "      <td>0</td>\n",
              "      <td>TITICACA</td>\n",
              "      <td>176</td>\n",
              "      <td>Cuenca Coata</td>\n",
              "      <td>70°42'00.0\"\"</td>\n",
              "      <td>15°42'00.0\"\"</td>\n",
              "      <td>4200</td>\n",
              "      <td>SENAMHI</td>\n",
              "      <td>LAGUNILLAS</td>\n",
              "      <td>0.0</td>\n",
              "      <td>-70.700000</td>\n",
              "      <td>-15.700000</td>\n",
              "    </tr>\n",
              "    <tr>\n",
              "      <th>1</th>\n",
              "      <td>1</td>\n",
              "      <td>210403</td>\n",
              "      <td>RIO VERDE</td>\n",
              "      <td>1</td>\n",
              "      <td>HIDROMETRICA</td>\n",
              "      <td>HLG</td>\n",
              "      <td>LIMNIGRAFICA</td>\n",
              "      <td>F</td>\n",
              "      <td>FUNCIONANDO</td>\n",
              "      <td>1969</td>\n",
              "      <td></td>\n",
              "      <td>21</td>\n",
              "      <td>PUNO</td>\n",
              "      <td>2107</td>\n",
              "      <td>LAMPA</td>\n",
              "      <td>210709</td>\n",
              "      <td>SANTA LUCIA</td>\n",
              "      <td>14</td>\n",
              "      <td>TITICACA</td>\n",
              "      <td>56.0</td>\n",
              "      <td>Coata - Ilpa</td>\n",
              "      <td>0</td>\n",
              "      <td>TITICACA</td>\n",
              "      <td>176</td>\n",
              "      <td>Cuenca Coata</td>\n",
              "      <td>70°42'42.9\"\"</td>\n",
              "      <td>15°33'42.2\"\"</td>\n",
              "      <td>4250.00</td>\n",
              "      <td>SENAMHI</td>\n",
              "      <td>RIO VERDE</td>\n",
              "      <td>0.0</td>\n",
              "      <td>-70.711917</td>\n",
              "      <td>-15.561722</td>\n",
              "    </tr>\n",
              "    <tr>\n",
              "      <th>2</th>\n",
              "      <td>2</td>\n",
              "      <td>210404</td>\n",
              "      <td>SARACOCHA</td>\n",
              "      <td>1</td>\n",
              "      <td>HIDROMETRICA</td>\n",
              "      <td>HLM</td>\n",
              "      <td>LIMNIMETRICA</td>\n",
              "      <td>C</td>\n",
              "      <td>CERRADO</td>\n",
              "      <td>1961</td>\n",
              "      <td></td>\n",
              "      <td>21</td>\n",
              "      <td>PUNO</td>\n",
              "      <td>2107</td>\n",
              "      <td>LAMPA</td>\n",
              "      <td>210709</td>\n",
              "      <td>SANTA LUCIA</td>\n",
              "      <td>14</td>\n",
              "      <td>TITICACA</td>\n",
              "      <td>56.0</td>\n",
              "      <td>Coata - Ilpa</td>\n",
              "      <td>0</td>\n",
              "      <td>TITICACA</td>\n",
              "      <td>176</td>\n",
              "      <td>Cuenca Coata</td>\n",
              "      <td>70°37'00.0\"\"</td>\n",
              "      <td>15°45'00.0\"\"</td>\n",
              "      <td>4300</td>\n",
              "      <td>SENAMHI</td>\n",
              "      <td></td>\n",
              "      <td>0.0</td>\n",
              "      <td>-70.616667</td>\n",
              "      <td>-15.750000</td>\n",
              "    </tr>\n",
              "    <tr>\n",
              "      <th>3</th>\n",
              "      <td>3</td>\n",
              "      <td>210401</td>\n",
              "      <td>PUENTE MARAVILLAS</td>\n",
              "      <td>1</td>\n",
              "      <td>HIDROMETRICA</td>\n",
              "      <td>HLM</td>\n",
              "      <td>LIMNIMETRICA</td>\n",
              "      <td>P</td>\n",
              "      <td>PARALIZADA</td>\n",
              "      <td>1956</td>\n",
              "      <td></td>\n",
              "      <td>21</td>\n",
              "      <td>PUNO</td>\n",
              "      <td>2111</td>\n",
              "      <td>SAN ROMAN</td>\n",
              "      <td>211101</td>\n",
              "      <td>JULIACA</td>\n",
              "      <td>14</td>\n",
              "      <td>TITICACA</td>\n",
              "      <td>56.0</td>\n",
              "      <td>Coata - Ilpa</td>\n",
              "      <td>0</td>\n",
              "      <td>TITICACA</td>\n",
              "      <td>176</td>\n",
              "      <td>Cuenca Coata</td>\n",
              "      <td>70°08'00.0\"\"</td>\n",
              "      <td>15°26'00.0\"\"</td>\n",
              "      <td>3828</td>\n",
              "      <td>SENAMHI</td>\n",
              "      <td>COTA</td>\n",
              "      <td>0.0</td>\n",
              "      <td>-70.133333</td>\n",
              "      <td>-15.433333</td>\n",
              "    </tr>\n",
              "    <tr>\n",
              "      <th>4</th>\n",
              "      <td>4</td>\n",
              "      <td>210405</td>\n",
              "      <td>PUENTE MOCAYACHE-LAMPA</td>\n",
              "      <td>1</td>\n",
              "      <td>HIDROMETRICA</td>\n",
              "      <td>HLM</td>\n",
              "      <td>LIMNIMETRICA</td>\n",
              "      <td>F</td>\n",
              "      <td>FUNCIONANDO</td>\n",
              "      <td>1994</td>\n",
              "      <td></td>\n",
              "      <td>21</td>\n",
              "      <td>PUNO</td>\n",
              "      <td>2111</td>\n",
              "      <td>SAN ROMAN</td>\n",
              "      <td>211101</td>\n",
              "      <td>JULIACA</td>\n",
              "      <td>14</td>\n",
              "      <td>TITICACA</td>\n",
              "      <td>56.0</td>\n",
              "      <td>Coata - Ilpa</td>\n",
              "      <td>0</td>\n",
              "      <td>TITICACA</td>\n",
              "      <td>176</td>\n",
              "      <td>Cuenca Coata</td>\n",
              "      <td>70°12'32.5\"\"</td>\n",
              "      <td>15°26'37.9\"\"</td>\n",
              "      <td>3838.00</td>\n",
              "      <td>SENAMHI</td>\n",
              "      <td>COATA</td>\n",
              "      <td>0.0</td>\n",
              "      <td>-70.209028</td>\n",
              "      <td>-15.443861</td>\n",
              "    </tr>\n",
              "  </tbody>\n",
              "</table>\n",
              "</div>"
            ],
            "text/plain": [
              "   Unnamed: 0 COD_ESTA                NOM_ESTA  ...  AREACAP     COORDX     COORDY\n",
              "0           0   210402              LAGUNILLAS  ...      0.0 -70.700000 -15.700000\n",
              "1           1   210403               RIO VERDE  ...      0.0 -70.711917 -15.561722\n",
              "2           2   210404               SARACOCHA  ...      0.0 -70.616667 -15.750000\n",
              "3           3   210401       PUENTE MARAVILLAS  ...      0.0 -70.133333 -15.433333\n",
              "4           4   210405  PUENTE MOCAYACHE-LAMPA  ...      0.0 -70.209028 -15.443861\n",
              "\n",
              "[5 rows x 33 columns]"
            ]
          },
          "metadata": {
            "tags": []
          },
          "execution_count": 80
        }
      ]
    },
    {
      "cell_type": "markdown",
      "metadata": {
        "id": "Pr2x85gti-wp",
        "colab_type": "text"
      },
      "source": [
        "3_3 Generar un GeoDataFrame para la consulta a partir de las coordenadas. (3pt)"
      ]
    },
    {
      "cell_type": "code",
      "metadata": {
        "id": "jHZsyWgMOiDm",
        "colab_type": "code",
        "colab": {}
      },
      "source": [
        "crs = {'init':'epsg:4326'}\n",
        "geometry = [Point(x) for x in zip (dat.COORDX, dat.COORDY)]"
      ],
      "execution_count": 0,
      "outputs": []
    },
    {
      "cell_type": "code",
      "metadata": {
        "id": "54QQa_7iVT-w",
        "colab_type": "code",
        "outputId": "d80d6dfe-1433-453d-a928-59bf1f8d4c0c",
        "colab": {
          "base_uri": "https://localhost:8080/",
          "height": 282
        }
      },
      "source": [
        "gdf = GeoDataFrame(dat,crs=crs,geometry=geometry)\n",
        "gdf.head()\n",
        "gdf.plot()"
      ],
      "execution_count": 0,
      "outputs": [
        {
          "output_type": "execute_result",
          "data": {
            "text/plain": [
              "<matplotlib.axes._subplots.AxesSubplot at 0x7f1c9bdfb860>"
            ]
          },
          "metadata": {
            "tags": []
          },
          "execution_count": 82
        },
        {
          "output_type": "display_data",
          "data": {
            "image/png": "[encoded data removed]",
            "text/plain": [
              "<Figure size 432x288 with 1 Axes>"
            ]
          },
          "metadata": {
            "tags": []
          }
        }
      ]
    },
    {
      "cell_type": "markdown",
      "metadata": {
        "id": "i2b8O2tsi-ui",
        "colab_type": "text"
      },
      "source": [
        "3_4 Exportar la data creada a un archivo shapefile y visualizar los datos usando Folium. (2pt)"
      ]
    },
    {
      "cell_type": "code",
      "metadata": {
        "id": "rw7vxt0BVw0g",
        "colab_type": "code",
        "colab": {}
      },
      "source": [
        "gdf.to_file(driver='ESRI Shapefile', filename='dat.shp')"
      ],
      "execution_count": 0,
      "outputs": []
    },
    {
      "cell_type": "code",
      "metadata": {
        "id": "oEIV0lj4ZI7i",
        "colab_type": "code",
        "colab": {}
      },
      "source": [
        "import folium"
      ],
      "execution_count": 0,
      "outputs": []
    },
    {
      "cell_type": "code",
      "metadata": {
        "id": "FXln5yjHlFxs",
        "colab_type": "code",
        "outputId": "ea448bdf-5a8d-4201-d2fa-601e45bbaf65",
        "colab": {
          "base_uri": "https://localhost:8080/",
          "height": 71
        }
      },
      "source": [
        "gjson = gdf.to_crs(epsg='4326').to_json()"
      ],
      "execution_count": 0,
      "outputs": [
        {
          "output_type": "stream",
          "text": [
            "/usr/local/lib/python3.6/dist-packages/pyproj/crs.py:77: FutureWarning: '+init=<authority>:<code>' syntax is deprecated. '<authority>:<code>' is the preferred initialization method.\n",
            "  return _prepare_from_string(\" \".join(pjargs))\n"
          ],
          "name": "stderr"
        }
      ]
    },
    {
      "cell_type": "code",
      "metadata": {
        "id": "5B2aQzYgcIRw",
        "colab_type": "code",
        "colab": {}
      },
      "source": [
        "mapa = folium.Map([-12,-77], zoom_start=2, tiles ='Stamen Terrain')\n",
        "points = folium.features.GeoJson(gjson)\n",
        "mapa.add_children(points)\n",
        "mapa"
      ],
      "execution_count": 0,
      "outputs": []
    },
    {
      "cell_type": "code",
      "metadata": {
        "id": "b57coNWoZXRK",
        "colab_type": "code",
        "colab": {}
      },
      "source": [
        "este seria el paso final pero no puedo visualizar el mapa "
      ],
      "execution_count": 0,
      "outputs": []
    },
    {
      "cell_type": "markdown",
      "metadata": {
        "id": "yDpbWQpYi-pO",
        "colab_type": "text"
      },
      "source": [
        "3_5 Agregar el departamento donde más llovió al mapa folium. (leer archivo [departamentos](https://raw.githubusercontent.com/ryali93/ExamenProgramacion/master/data/departamentos.json)) (2pt)"
      ]
    },
    {
      "cell_type": "code",
      "metadata": {
        "id": "g-EGcYr7utor",
        "colab_type": "code",
        "colab": {}
      },
      "source": [
        "dat2 = open(\"departamentos.json\",\"r\")\n",
        "dat3 = dat2.read()\n",
        "dat3"
      ],
      "execution_count": 0,
      "outputs": []
    },
    {
      "cell_type": "code",
      "metadata": {
        "id": "VQDJT6ITZM8I",
        "colab_type": "code",
        "outputId": "27674931-0bce-4851-a0c7-ac78e1f8606e",
        "colab": {
          "base_uri": "https://localhost:8080/",
          "height": 34
        }
      },
      "source": [
        "import json\n",
        "dat2 = json.loads(dat3)\n",
        "print(type(dat2))"
      ],
      "execution_count": 0,
      "outputs": [
        {
          "output_type": "stream",
          "text": [
            "<class 'dict'>\n"
          ],
          "name": "stdout"
        }
      ]
    },
    {
      "cell_type": "code",
      "metadata": {
        "id": "2Hre2ZOAasIR",
        "colab_type": "code",
        "colab": {}
      },
      "source": [
        "dat2"
      ],
      "execution_count": 0,
      "outputs": []
    },
    {
      "cell_type": "markdown",
      "metadata": {
        "id": "Rb4-nOKDUVZW",
        "colab_type": "text"
      },
      "source": [
        "lo que segueria seria un filtro como el primer ejercicio donde explica como sacar el valor maximo de lluvia y luego importar el follium para visualizar el mapa como el segundo ejercicios"
      ]
    },
    {
      "cell_type": "markdown",
      "metadata": {
        "id": "62YRaLNoVuh0",
        "colab_type": "text"
      },
      "source": [
        "## **4. Pregunta extra** (5pt)"
      ]
    },
    {
      "cell_type": "markdown",
      "metadata": {
        "id": "AxmHDBN2Vud_",
        "colab_type": "text"
      },
      "source": [
        "4_1 Cuando se recolectan datos de campo, generalmente se crea una nube de puntos (ya sean elevaciones o algún dato climático) existen algunas formas de interpolar estos datos; una metodología bastante común es la ecuación IDW o Ponderado de Inversa a la Distancia, que calcula el valor de un punto (desconocido) en base a los valores y las distancias a los demás. Realizar una función que, en base a los valores y distancias, permita calcular este nuevo valor.\n",
        "\n",
        "Se adjunta ecuación e imagen de cómo se aplica.\n",
        "\n",
        "$$z_p = \\frac{\\sum_{i=1}^{n} \\frac{z_i} {d_i^p}} {\\sum_{i=1}^{n}\\frac{1}{d_i^p}}$$\n",
        "\n",
        "<img width=\"600\" alt=\"portfolio_view\" src=\"https://community.esri.com/servlet/JiveServlet/download/264856-1-30888/Clip_282.jpg\">\n",
        "\n",
        "\n",
        "\n"
      ]
    }
  ]
}